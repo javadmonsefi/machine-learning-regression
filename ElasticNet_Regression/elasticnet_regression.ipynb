{
 "cells": [
  {
   "cell_type": "markdown",
   "id": "af591b87-8930-49ce-a39d-b5118083bac7",
   "metadata": {},
   "source": [
    "### 🔹 ElasticNet Regression  \n",
    "\n",
    "ElasticNet Regression is a **hybrid regularization technique** that combines both Ridge (\\(L2\\)) and Lasso (\\(L1\\)) penalties.  \n",
    "It is useful when we want the benefits of both **coefficient shrinkage** and **feature selection**.  \n",
    "\n",
    "The main idea:  \n",
    "- ElasticNet adds a linear combination of \\(L1\\) and \\(L2\\) penalties to the OLS cost function.  \n",
    "- The balance between Lasso and Ridge is controlled by a mixing parameter \\(\\alpha\\).  \n",
    "- It is particularly helpful when we have **high-dimensional data** or highly correlated features.  \n",
    "\n",
    "Mathematically, ElasticNet minimizes:  \n",
    "\n",
    "$$\n",
    "J(\\beta) = \\sum_{i=1}^{n} (y_i - \\hat{y}_i)^2 \n",
    "+ \\lambda \\Big( \\alpha \\sum_{j=1}^{p} |\\beta_j| + (1 - \\alpha) \\sum_{j=1}^{p} \\beta_j^2 \\Big)\n",
    "$$  \n",
    "\n",
    "where:  \n",
    "- $y_i, \\hat{y}_i, \\beta_j$ are as before,  \n",
    "- $\\lambda \\geq 0$ is the overall regularization strength,  \n",
    "- $\\alpha \\in [0, 1]$ controls the mix between **Lasso** $(\\alpha = 1)$ and **Ridge** $(\\alpha = 0)$.\n",
    "\n",
    "ElasticNet Regression helps us to:  \n",
    "- Handle multicollinearity like Ridge.  \n",
    "- Perform feature selection like Lasso.  \n",
    "- Build robust models for high-dimensional datasets.  \n",
    "\n",
    "In this notebook, we will implement **ElasticNet Regression**, tune both \\(\\lambda\\) and \\(\\alpha\\), and compare it with Ridge and Lasso 🚀.  \n"
   ]
  },
  {
   "cell_type": "markdown",
   "id": "3de7bfb3-484f-4c2e-ba35-7211fe27d8d0",
   "metadata": {},
   "source": [
    "# --------------------------------------------------------------------------"
   ]
  },
  {
   "cell_type": "markdown",
   "id": "3adc7c48-7528-49e2-bf1e-ba1ea5c441b6",
   "metadata": {
    "id": "3adc7c48-7528-49e2-bf1e-ba1ea5c441b6"
   },
   "source": [
    "# import dataset"
   ]
  },
  {
   "cell_type": "code",
   "execution_count": 1,
   "id": "nrZNet3Xp8Lj",
   "metadata": {
    "colab": {
     "base_uri": "https://localhost:8080/",
     "height": 73
    },
    "executionInfo": {
     "elapsed": 8393,
     "status": "ok",
     "timestamp": 1735765034654,
     "user": {
      "displayName": "Javad Monsefi",
      "userId": "11903795943444044796"
     },
     "user_tz": -210
    },
    "id": "nrZNet3Xp8Lj",
    "outputId": "068e21b9-03d9-451e-e889-693be282d6f0"
   },
   "outputs": [],
   "source": [
    "# from google.colab import files, drive\n",
    "\n",
    "# up = files.upload()\n",
    "# drive.mount('/content/drive')"
   ]
  },
  {
   "cell_type": "code",
   "execution_count": 2,
   "id": "79a141c1-d65a-4024-bcdd-6241a1b3d18e",
   "metadata": {
    "colab": {
     "base_uri": "https://localhost:8080/",
     "height": 143
    },
    "executionInfo": {
     "elapsed": 17,
     "status": "ok",
     "timestamp": 1735765035607,
     "user": {
      "displayName": "Javad Monsefi",
      "userId": "11903795943444044796"
     },
     "user_tz": -210
    },
    "id": "79a141c1-d65a-4024-bcdd-6241a1b3d18e",
    "outputId": "696c49bb-a389-4057-b013-6a41740b9b09"
   },
   "outputs": [
    {
     "data": {
      "text/html": [
       "<div>\n",
       "<style scoped>\n",
       "    .dataframe tbody tr th:only-of-type {\n",
       "        vertical-align: middle;\n",
       "    }\n",
       "\n",
       "    .dataframe tbody tr th {\n",
       "        vertical-align: top;\n",
       "    }\n",
       "\n",
       "    .dataframe thead th {\n",
       "        text-align: right;\n",
       "    }\n",
       "</style>\n",
       "<table border=\"1\" class=\"dataframe\">\n",
       "  <thead>\n",
       "    <tr style=\"text-align: right;\">\n",
       "      <th></th>\n",
       "      <th>A</th>\n",
       "      <th>B</th>\n",
       "      <th>C</th>\n",
       "      <th>T</th>\n",
       "    </tr>\n",
       "  </thead>\n",
       "  <tbody>\n",
       "    <tr>\n",
       "      <th>0</th>\n",
       "      <td>2.0</td>\n",
       "      <td>4</td>\n",
       "      <td>8.5</td>\n",
       "      <td>196</td>\n",
       "    </tr>\n",
       "    <tr>\n",
       "      <th>1</th>\n",
       "      <td>2.4</td>\n",
       "      <td>4</td>\n",
       "      <td>9.6</td>\n",
       "      <td>221</td>\n",
       "    </tr>\n",
       "    <tr>\n",
       "      <th>2</th>\n",
       "      <td>1.5</td>\n",
       "      <td>4</td>\n",
       "      <td>5.9</td>\n",
       "      <td>136</td>\n",
       "    </tr>\n",
       "  </tbody>\n",
       "</table>\n",
       "</div>"
      ],
      "text/plain": [
       "     A  B    C    T\n",
       "0  2.0  4  8.5  196\n",
       "1  2.4  4  9.6  221\n",
       "2  1.5  4  5.9  136"
      ]
     },
     "execution_count": 2,
     "metadata": {},
     "output_type": "execute_result"
    }
   ],
   "source": [
    "import pandas as pd\n",
    "\n",
    "df = pd.read_csv('dataset.csv')\n",
    "df.head(3)"
   ]
  },
  {
   "cell_type": "code",
   "execution_count": 3,
   "id": "jRtBmU4YqH_f",
   "metadata": {
    "id": "jRtBmU4YqH_f"
   },
   "outputs": [],
   "source": [
    "# df.info()"
   ]
  },
  {
   "cell_type": "markdown",
   "id": "fa66bHenqKbJ",
   "metadata": {
    "id": "fa66bHenqKbJ"
   },
   "source": [
    "# cleaning"
   ]
  },
  {
   "cell_type": "code",
   "execution_count": 4,
   "id": "wBzpMrD1qMyB",
   "metadata": {
    "executionInfo": {
     "elapsed": 6,
     "status": "ok",
     "timestamp": 1735765060656,
     "user": {
      "displayName": "Javad Monsefi",
      "userId": "11903795943444044796"
     },
     "user_tz": -210
    },
    "id": "wBzpMrD1qMyB"
   },
   "outputs": [],
   "source": [
    "# clean the data"
   ]
  },
  {
   "cell_type": "markdown",
   "id": "sVHfmOPDqO8R",
   "metadata": {
    "id": "sVHfmOPDqO8R"
   },
   "source": [
    "# encoding"
   ]
  },
  {
   "cell_type": "code",
   "execution_count": 5,
   "id": "DQiZJIV0qQ0G",
   "metadata": {
    "executionInfo": {
     "elapsed": 11,
     "status": "ok",
     "timestamp": 1735765076772,
     "user": {
      "displayName": "Javad Monsefi",
      "userId": "11903795943444044796"
     },
     "user_tz": -210
    },
    "id": "DQiZJIV0qQ0G"
   },
   "outputs": [],
   "source": [
    "# encode the data"
   ]
  },
  {
   "cell_type": "markdown",
   "id": "3c3e35c7-fc8f-41ed-adc3-1b573508d948",
   "metadata": {
    "id": "3c3e35c7-fc8f-41ed-adc3-1b573508d948"
   },
   "source": [
    "# define x , y"
   ]
  },
  {
   "cell_type": "code",
   "execution_count": 6,
   "id": "4ec44b35-f10f-461c-a4a9-def509b79f86",
   "metadata": {
    "executionInfo": {
     "elapsed": 488,
     "status": "ok",
     "timestamp": 1735765079452,
     "user": {
      "displayName": "Javad Monsefi",
      "userId": "11903795943444044796"
     },
     "user_tz": -210
    },
    "id": "4ec44b35-f10f-461c-a4a9-def509b79f86"
   },
   "outputs": [],
   "source": [
    "import numpy as np\n",
    "\n",
    "X = df[['A', 'B', 'C']].values\n",
    "y = df['T'].values"
   ]
  },
  {
   "cell_type": "markdown",
   "id": "09e138dd-c634-463a-9155-7f770a1c6ab9",
   "metadata": {
    "id": "09e138dd-c634-463a-9155-7f770a1c6ab9"
   },
   "source": [
    "# spliting"
   ]
  },
  {
   "cell_type": "code",
   "execution_count": 7,
   "id": "d3f619a6-c5c7-461e-a5a4-fe026435cd76",
   "metadata": {},
   "outputs": [],
   "source": [
    "# # finding best random state \n",
    "\n",
    "# from sklearn.model_selection import train_test_split\n",
    "# from sklearn.linear_model import ElasticNet\n",
    "# enr = ElasticNet()\n",
    "# from sklearn.preprocessing import StandardScaler\n",
    "# sc = StandardScaler()\n",
    "# from sklearn.metrics import r2_score\n",
    "\n",
    "# import time\n",
    "# t1 = time.time()\n",
    "# lst = []\n",
    "# for i in range(1,10):\n",
    "#     X_train, X_test, y_train, y_test = train_test_split(X, y, test_size=0.25, random_state=i) \n",
    "#     X_train = sc.fit_transform(X_train)\n",
    "#     X_test = sc.transform(X_test) \n",
    "#     enr.fit(X_train, y_train)\n",
    "#     yhat_test = enr.predict(X_test)\n",
    "#     r2 = r2_score(y_test, yhat_test)\n",
    "#     lst.append(r2)\n",
    "\n",
    "# t2 = time.time()\n",
    "# print(f\"run time: {round((t2 - t1) / 60 , 0)} min\")\n",
    "# print(f\"R2_score = {round(max(lst),2)}\")\n",
    "# print(f\"random_state = {np.argmax(lst) + 1}\")"
   ]
  },
  {
   "cell_type": "code",
   "execution_count": 8,
   "id": "c45dcc05-b5fd-42a2-9a29-daa415ab40f0",
   "metadata": {
    "executionInfo": {
     "elapsed": 3367,
     "status": "ok",
     "timestamp": 1735765083156,
     "user": {
      "displayName": "Javad Monsefi",
      "userId": "11903795943444044796"
     },
     "user_tz": -210
    },
    "id": "c45dcc05-b5fd-42a2-9a29-daa415ab40f0"
   },
   "outputs": [],
   "source": [
    "from sklearn.model_selection import train_test_split\n",
    "\n",
    "X_train, X_test, y_train, y_test = train_test_split(X, y, test_size=0.2, random_state=42)"
   ]
  },
  {
   "cell_type": "markdown",
   "id": "43ab84ee-d46d-4683-a240-482387a01787",
   "metadata": {
    "id": "43ab84ee-d46d-4683-a240-482387a01787"
   },
   "source": [
    "# scaling"
   ]
  },
  {
   "cell_type": "code",
   "execution_count": 9,
   "id": "026c7235-13d5-4bd4-8491-da33ab3fc0f9",
   "metadata": {
    "executionInfo": {
     "elapsed": 7,
     "status": "ok",
     "timestamp": 1735765083555,
     "user": {
      "displayName": "Javad Monsefi",
      "userId": "11903795943444044796"
     },
     "user_tz": -210
    },
    "id": "026c7235-13d5-4bd4-8491-da33ab3fc0f9"
   },
   "outputs": [],
   "source": [
    "from sklearn.preprocessing import StandardScaler\n",
    "\n",
    "scaler = StandardScaler()\n",
    "X_train = scaler.fit_transform(X_train)\n",
    "X_test = scaler.transform(X_test)"
   ]
  },
  {
   "cell_type": "markdown",
   "id": "dd6152b0-dc4c-4799-a57c-12a081a8fe86",
   "metadata": {
    "id": "dd6152b0-dc4c-4799-a57c-12a081a8fe86"
   },
   "source": [
    "# fit the model"
   ]
  },
  {
   "cell_type": "code",
   "execution_count": 10,
   "id": "e7c141c9-2acf-4340-b4d0-ff2939f16d09",
   "metadata": {},
   "outputs": [],
   "source": [
    "# # K-fold cross validation\n",
    "\n",
    "# from sklearn.linear_model import ElasticNet\n",
    "# from sklearn.model_selection import GridSearchCV\n",
    "\n",
    "# parameters = {\n",
    "#     '': [],\n",
    "#     '': []\n",
    "# }\n",
    "\n",
    "# e = ElasticNet(random_state=42)\n",
    "# gs = GridSearchCV(estimator=e, param_grid=parameters, cv=5)\n",
    "\n",
    "# gs.fit(x_train, y_train)\n",
    "\n",
    "# best_params = gs.best_params_\n",
    "# print(best_params)"
   ]
  },
  {
   "cell_type": "code",
   "execution_count": 11,
   "id": "wGt7N55Qqcdz",
   "metadata": {
    "id": "wGt7N55Qqcdz"
   },
   "outputs": [],
   "source": [
    "# def param\n",
    "# alpha=1.0, l1_ratio=0.5, fit_intercept=True, precompute=False, max_iter=1000, copy_X=True, \n",
    "# tol=0.0001, warm_start=False, positive=False, random_state=None, selection='cyclic'"
   ]
  },
  {
   "cell_type": "code",
   "execution_count": 12,
   "id": "21dc2130-de65-46ad-aac7-787e5529c84a",
   "metadata": {
    "colab": {
     "base_uri": "https://localhost:8080/",
     "height": 80
    },
    "executionInfo": {
     "elapsed": 370,
     "status": "ok",
     "timestamp": 1735765086405,
     "user": {
      "displayName": "Javad Monsefi",
      "userId": "11903795943444044796"
     },
     "user_tz": -210
    },
    "id": "21dc2130-de65-46ad-aac7-787e5529c84a",
    "outputId": "adfc1ac5-5f86-455a-87b2-bb287fdea457"
   },
   "outputs": [
    {
     "data": {
      "text/html": [
       "<style>#sk-container-id-1 {\n",
       "  /* Definition of color scheme common for light and dark mode */\n",
       "  --sklearn-color-text: #000;\n",
       "  --sklearn-color-text-muted: #666;\n",
       "  --sklearn-color-line: gray;\n",
       "  /* Definition of color scheme for unfitted estimators */\n",
       "  --sklearn-color-unfitted-level-0: #fff5e6;\n",
       "  --sklearn-color-unfitted-level-1: #f6e4d2;\n",
       "  --sklearn-color-unfitted-level-2: #ffe0b3;\n",
       "  --sklearn-color-unfitted-level-3: chocolate;\n",
       "  /* Definition of color scheme for fitted estimators */\n",
       "  --sklearn-color-fitted-level-0: #f0f8ff;\n",
       "  --sklearn-color-fitted-level-1: #d4ebff;\n",
       "  --sklearn-color-fitted-level-2: #b3dbfd;\n",
       "  --sklearn-color-fitted-level-3: cornflowerblue;\n",
       "\n",
       "  /* Specific color for light theme */\n",
       "  --sklearn-color-text-on-default-background: var(--sg-text-color, var(--theme-code-foreground, var(--jp-content-font-color1, black)));\n",
       "  --sklearn-color-background: var(--sg-background-color, var(--theme-background, var(--jp-layout-color0, white)));\n",
       "  --sklearn-color-border-box: var(--sg-text-color, var(--theme-code-foreground, var(--jp-content-font-color1, black)));\n",
       "  --sklearn-color-icon: #696969;\n",
       "\n",
       "  @media (prefers-color-scheme: dark) {\n",
       "    /* Redefinition of color scheme for dark theme */\n",
       "    --sklearn-color-text-on-default-background: var(--sg-text-color, var(--theme-code-foreground, var(--jp-content-font-color1, white)));\n",
       "    --sklearn-color-background: var(--sg-background-color, var(--theme-background, var(--jp-layout-color0, #111)));\n",
       "    --sklearn-color-border-box: var(--sg-text-color, var(--theme-code-foreground, var(--jp-content-font-color1, white)));\n",
       "    --sklearn-color-icon: #878787;\n",
       "  }\n",
       "}\n",
       "\n",
       "#sk-container-id-1 {\n",
       "  color: var(--sklearn-color-text);\n",
       "}\n",
       "\n",
       "#sk-container-id-1 pre {\n",
       "  padding: 0;\n",
       "}\n",
       "\n",
       "#sk-container-id-1 input.sk-hidden--visually {\n",
       "  border: 0;\n",
       "  clip: rect(1px 1px 1px 1px);\n",
       "  clip: rect(1px, 1px, 1px, 1px);\n",
       "  height: 1px;\n",
       "  margin: -1px;\n",
       "  overflow: hidden;\n",
       "  padding: 0;\n",
       "  position: absolute;\n",
       "  width: 1px;\n",
       "}\n",
       "\n",
       "#sk-container-id-1 div.sk-dashed-wrapped {\n",
       "  border: 1px dashed var(--sklearn-color-line);\n",
       "  margin: 0 0.4em 0.5em 0.4em;\n",
       "  box-sizing: border-box;\n",
       "  padding-bottom: 0.4em;\n",
       "  background-color: var(--sklearn-color-background);\n",
       "}\n",
       "\n",
       "#sk-container-id-1 div.sk-container {\n",
       "  /* jupyter's `normalize.less` sets `[hidden] { display: none; }`\n",
       "     but bootstrap.min.css set `[hidden] { display: none !important; }`\n",
       "     so we also need the `!important` here to be able to override the\n",
       "     default hidden behavior on the sphinx rendered scikit-learn.org.\n",
       "     See: https://github.com/scikit-learn/scikit-learn/issues/21755 */\n",
       "  display: inline-block !important;\n",
       "  position: relative;\n",
       "}\n",
       "\n",
       "#sk-container-id-1 div.sk-text-repr-fallback {\n",
       "  display: none;\n",
       "}\n",
       "\n",
       "div.sk-parallel-item,\n",
       "div.sk-serial,\n",
       "div.sk-item {\n",
       "  /* draw centered vertical line to link estimators */\n",
       "  background-image: linear-gradient(var(--sklearn-color-text-on-default-background), var(--sklearn-color-text-on-default-background));\n",
       "  background-size: 2px 100%;\n",
       "  background-repeat: no-repeat;\n",
       "  background-position: center center;\n",
       "}\n",
       "\n",
       "/* Parallel-specific style estimator block */\n",
       "\n",
       "#sk-container-id-1 div.sk-parallel-item::after {\n",
       "  content: \"\";\n",
       "  width: 100%;\n",
       "  border-bottom: 2px solid var(--sklearn-color-text-on-default-background);\n",
       "  flex-grow: 1;\n",
       "}\n",
       "\n",
       "#sk-container-id-1 div.sk-parallel {\n",
       "  display: flex;\n",
       "  align-items: stretch;\n",
       "  justify-content: center;\n",
       "  background-color: var(--sklearn-color-background);\n",
       "  position: relative;\n",
       "}\n",
       "\n",
       "#sk-container-id-1 div.sk-parallel-item {\n",
       "  display: flex;\n",
       "  flex-direction: column;\n",
       "}\n",
       "\n",
       "#sk-container-id-1 div.sk-parallel-item:first-child::after {\n",
       "  align-self: flex-end;\n",
       "  width: 50%;\n",
       "}\n",
       "\n",
       "#sk-container-id-1 div.sk-parallel-item:last-child::after {\n",
       "  align-self: flex-start;\n",
       "  width: 50%;\n",
       "}\n",
       "\n",
       "#sk-container-id-1 div.sk-parallel-item:only-child::after {\n",
       "  width: 0;\n",
       "}\n",
       "\n",
       "/* Serial-specific style estimator block */\n",
       "\n",
       "#sk-container-id-1 div.sk-serial {\n",
       "  display: flex;\n",
       "  flex-direction: column;\n",
       "  align-items: center;\n",
       "  background-color: var(--sklearn-color-background);\n",
       "  padding-right: 1em;\n",
       "  padding-left: 1em;\n",
       "}\n",
       "\n",
       "\n",
       "/* Toggleable style: style used for estimator/Pipeline/ColumnTransformer box that is\n",
       "clickable and can be expanded/collapsed.\n",
       "- Pipeline and ColumnTransformer use this feature and define the default style\n",
       "- Estimators will overwrite some part of the style using the `sk-estimator` class\n",
       "*/\n",
       "\n",
       "/* Pipeline and ColumnTransformer style (default) */\n",
       "\n",
       "#sk-container-id-1 div.sk-toggleable {\n",
       "  /* Default theme specific background. It is overwritten whether we have a\n",
       "  specific estimator or a Pipeline/ColumnTransformer */\n",
       "  background-color: var(--sklearn-color-background);\n",
       "}\n",
       "\n",
       "/* Toggleable label */\n",
       "#sk-container-id-1 label.sk-toggleable__label {\n",
       "  cursor: pointer;\n",
       "  display: flex;\n",
       "  width: 100%;\n",
       "  margin-bottom: 0;\n",
       "  padding: 0.5em;\n",
       "  box-sizing: border-box;\n",
       "  text-align: center;\n",
       "  align-items: start;\n",
       "  justify-content: space-between;\n",
       "  gap: 0.5em;\n",
       "}\n",
       "\n",
       "#sk-container-id-1 label.sk-toggleable__label .caption {\n",
       "  font-size: 0.6rem;\n",
       "  font-weight: lighter;\n",
       "  color: var(--sklearn-color-text-muted);\n",
       "}\n",
       "\n",
       "#sk-container-id-1 label.sk-toggleable__label-arrow:before {\n",
       "  /* Arrow on the left of the label */\n",
       "  content: \"▸\";\n",
       "  float: left;\n",
       "  margin-right: 0.25em;\n",
       "  color: var(--sklearn-color-icon);\n",
       "}\n",
       "\n",
       "#sk-container-id-1 label.sk-toggleable__label-arrow:hover:before {\n",
       "  color: var(--sklearn-color-text);\n",
       "}\n",
       "\n",
       "/* Toggleable content - dropdown */\n",
       "\n",
       "#sk-container-id-1 div.sk-toggleable__content {\n",
       "  max-height: 0;\n",
       "  max-width: 0;\n",
       "  overflow: hidden;\n",
       "  text-align: left;\n",
       "  /* unfitted */\n",
       "  background-color: var(--sklearn-color-unfitted-level-0);\n",
       "}\n",
       "\n",
       "#sk-container-id-1 div.sk-toggleable__content.fitted {\n",
       "  /* fitted */\n",
       "  background-color: var(--sklearn-color-fitted-level-0);\n",
       "}\n",
       "\n",
       "#sk-container-id-1 div.sk-toggleable__content pre {\n",
       "  margin: 0.2em;\n",
       "  border-radius: 0.25em;\n",
       "  color: var(--sklearn-color-text);\n",
       "  /* unfitted */\n",
       "  background-color: var(--sklearn-color-unfitted-level-0);\n",
       "}\n",
       "\n",
       "#sk-container-id-1 div.sk-toggleable__content.fitted pre {\n",
       "  /* unfitted */\n",
       "  background-color: var(--sklearn-color-fitted-level-0);\n",
       "}\n",
       "\n",
       "#sk-container-id-1 input.sk-toggleable__control:checked~div.sk-toggleable__content {\n",
       "  /* Expand drop-down */\n",
       "  max-height: 200px;\n",
       "  max-width: 100%;\n",
       "  overflow: auto;\n",
       "}\n",
       "\n",
       "#sk-container-id-1 input.sk-toggleable__control:checked~label.sk-toggleable__label-arrow:before {\n",
       "  content: \"▾\";\n",
       "}\n",
       "\n",
       "/* Pipeline/ColumnTransformer-specific style */\n",
       "\n",
       "#sk-container-id-1 div.sk-label input.sk-toggleable__control:checked~label.sk-toggleable__label {\n",
       "  color: var(--sklearn-color-text);\n",
       "  background-color: var(--sklearn-color-unfitted-level-2);\n",
       "}\n",
       "\n",
       "#sk-container-id-1 div.sk-label.fitted input.sk-toggleable__control:checked~label.sk-toggleable__label {\n",
       "  background-color: var(--sklearn-color-fitted-level-2);\n",
       "}\n",
       "\n",
       "/* Estimator-specific style */\n",
       "\n",
       "/* Colorize estimator box */\n",
       "#sk-container-id-1 div.sk-estimator input.sk-toggleable__control:checked~label.sk-toggleable__label {\n",
       "  /* unfitted */\n",
       "  background-color: var(--sklearn-color-unfitted-level-2);\n",
       "}\n",
       "\n",
       "#sk-container-id-1 div.sk-estimator.fitted input.sk-toggleable__control:checked~label.sk-toggleable__label {\n",
       "  /* fitted */\n",
       "  background-color: var(--sklearn-color-fitted-level-2);\n",
       "}\n",
       "\n",
       "#sk-container-id-1 div.sk-label label.sk-toggleable__label,\n",
       "#sk-container-id-1 div.sk-label label {\n",
       "  /* The background is the default theme color */\n",
       "  color: var(--sklearn-color-text-on-default-background);\n",
       "}\n",
       "\n",
       "/* On hover, darken the color of the background */\n",
       "#sk-container-id-1 div.sk-label:hover label.sk-toggleable__label {\n",
       "  color: var(--sklearn-color-text);\n",
       "  background-color: var(--sklearn-color-unfitted-level-2);\n",
       "}\n",
       "\n",
       "/* Label box, darken color on hover, fitted */\n",
       "#sk-container-id-1 div.sk-label.fitted:hover label.sk-toggleable__label.fitted {\n",
       "  color: var(--sklearn-color-text);\n",
       "  background-color: var(--sklearn-color-fitted-level-2);\n",
       "}\n",
       "\n",
       "/* Estimator label */\n",
       "\n",
       "#sk-container-id-1 div.sk-label label {\n",
       "  font-family: monospace;\n",
       "  font-weight: bold;\n",
       "  display: inline-block;\n",
       "  line-height: 1.2em;\n",
       "}\n",
       "\n",
       "#sk-container-id-1 div.sk-label-container {\n",
       "  text-align: center;\n",
       "}\n",
       "\n",
       "/* Estimator-specific */\n",
       "#sk-container-id-1 div.sk-estimator {\n",
       "  font-family: monospace;\n",
       "  border: 1px dotted var(--sklearn-color-border-box);\n",
       "  border-radius: 0.25em;\n",
       "  box-sizing: border-box;\n",
       "  margin-bottom: 0.5em;\n",
       "  /* unfitted */\n",
       "  background-color: var(--sklearn-color-unfitted-level-0);\n",
       "}\n",
       "\n",
       "#sk-container-id-1 div.sk-estimator.fitted {\n",
       "  /* fitted */\n",
       "  background-color: var(--sklearn-color-fitted-level-0);\n",
       "}\n",
       "\n",
       "/* on hover */\n",
       "#sk-container-id-1 div.sk-estimator:hover {\n",
       "  /* unfitted */\n",
       "  background-color: var(--sklearn-color-unfitted-level-2);\n",
       "}\n",
       "\n",
       "#sk-container-id-1 div.sk-estimator.fitted:hover {\n",
       "  /* fitted */\n",
       "  background-color: var(--sklearn-color-fitted-level-2);\n",
       "}\n",
       "\n",
       "/* Specification for estimator info (e.g. \"i\" and \"?\") */\n",
       "\n",
       "/* Common style for \"i\" and \"?\" */\n",
       "\n",
       ".sk-estimator-doc-link,\n",
       "a:link.sk-estimator-doc-link,\n",
       "a:visited.sk-estimator-doc-link {\n",
       "  float: right;\n",
       "  font-size: smaller;\n",
       "  line-height: 1em;\n",
       "  font-family: monospace;\n",
       "  background-color: var(--sklearn-color-background);\n",
       "  border-radius: 1em;\n",
       "  height: 1em;\n",
       "  width: 1em;\n",
       "  text-decoration: none !important;\n",
       "  margin-left: 0.5em;\n",
       "  text-align: center;\n",
       "  /* unfitted */\n",
       "  border: var(--sklearn-color-unfitted-level-1) 1pt solid;\n",
       "  color: var(--sklearn-color-unfitted-level-1);\n",
       "}\n",
       "\n",
       ".sk-estimator-doc-link.fitted,\n",
       "a:link.sk-estimator-doc-link.fitted,\n",
       "a:visited.sk-estimator-doc-link.fitted {\n",
       "  /* fitted */\n",
       "  border: var(--sklearn-color-fitted-level-1) 1pt solid;\n",
       "  color: var(--sklearn-color-fitted-level-1);\n",
       "}\n",
       "\n",
       "/* On hover */\n",
       "div.sk-estimator:hover .sk-estimator-doc-link:hover,\n",
       ".sk-estimator-doc-link:hover,\n",
       "div.sk-label-container:hover .sk-estimator-doc-link:hover,\n",
       ".sk-estimator-doc-link:hover {\n",
       "  /* unfitted */\n",
       "  background-color: var(--sklearn-color-unfitted-level-3);\n",
       "  color: var(--sklearn-color-background);\n",
       "  text-decoration: none;\n",
       "}\n",
       "\n",
       "div.sk-estimator.fitted:hover .sk-estimator-doc-link.fitted:hover,\n",
       ".sk-estimator-doc-link.fitted:hover,\n",
       "div.sk-label-container:hover .sk-estimator-doc-link.fitted:hover,\n",
       ".sk-estimator-doc-link.fitted:hover {\n",
       "  /* fitted */\n",
       "  background-color: var(--sklearn-color-fitted-level-3);\n",
       "  color: var(--sklearn-color-background);\n",
       "  text-decoration: none;\n",
       "}\n",
       "\n",
       "/* Span, style for the box shown on hovering the info icon */\n",
       ".sk-estimator-doc-link span {\n",
       "  display: none;\n",
       "  z-index: 9999;\n",
       "  position: relative;\n",
       "  font-weight: normal;\n",
       "  right: .2ex;\n",
       "  padding: .5ex;\n",
       "  margin: .5ex;\n",
       "  width: min-content;\n",
       "  min-width: 20ex;\n",
       "  max-width: 50ex;\n",
       "  color: var(--sklearn-color-text);\n",
       "  box-shadow: 2pt 2pt 4pt #999;\n",
       "  /* unfitted */\n",
       "  background: var(--sklearn-color-unfitted-level-0);\n",
       "  border: .5pt solid var(--sklearn-color-unfitted-level-3);\n",
       "}\n",
       "\n",
       ".sk-estimator-doc-link.fitted span {\n",
       "  /* fitted */\n",
       "  background: var(--sklearn-color-fitted-level-0);\n",
       "  border: var(--sklearn-color-fitted-level-3);\n",
       "}\n",
       "\n",
       ".sk-estimator-doc-link:hover span {\n",
       "  display: block;\n",
       "}\n",
       "\n",
       "/* \"?\"-specific style due to the `<a>` HTML tag */\n",
       "\n",
       "#sk-container-id-1 a.estimator_doc_link {\n",
       "  float: right;\n",
       "  font-size: 1rem;\n",
       "  line-height: 1em;\n",
       "  font-family: monospace;\n",
       "  background-color: var(--sklearn-color-background);\n",
       "  border-radius: 1rem;\n",
       "  height: 1rem;\n",
       "  width: 1rem;\n",
       "  text-decoration: none;\n",
       "  /* unfitted */\n",
       "  color: var(--sklearn-color-unfitted-level-1);\n",
       "  border: var(--sklearn-color-unfitted-level-1) 1pt solid;\n",
       "}\n",
       "\n",
       "#sk-container-id-1 a.estimator_doc_link.fitted {\n",
       "  /* fitted */\n",
       "  border: var(--sklearn-color-fitted-level-1) 1pt solid;\n",
       "  color: var(--sklearn-color-fitted-level-1);\n",
       "}\n",
       "\n",
       "/* On hover */\n",
       "#sk-container-id-1 a.estimator_doc_link:hover {\n",
       "  /* unfitted */\n",
       "  background-color: var(--sklearn-color-unfitted-level-3);\n",
       "  color: var(--sklearn-color-background);\n",
       "  text-decoration: none;\n",
       "}\n",
       "\n",
       "#sk-container-id-1 a.estimator_doc_link.fitted:hover {\n",
       "  /* fitted */\n",
       "  background-color: var(--sklearn-color-fitted-level-3);\n",
       "}\n",
       "</style><div id=\"sk-container-id-1\" class=\"sk-top-container\"><div class=\"sk-text-repr-fallback\"><pre>ElasticNet(random_state=42)</pre><b>In a Jupyter environment, please rerun this cell to show the HTML representation or trust the notebook. <br />On GitHub, the HTML representation is unable to render, please try loading this page with nbviewer.org.</b></div><div class=\"sk-container\" hidden><div class=\"sk-item\"><div class=\"sk-estimator fitted sk-toggleable\"><input class=\"sk-toggleable__control sk-hidden--visually\" id=\"sk-estimator-id-1\" type=\"checkbox\" checked><label for=\"sk-estimator-id-1\" class=\"sk-toggleable__label fitted sk-toggleable__label-arrow\"><div><div>ElasticNet</div></div><div><a class=\"sk-estimator-doc-link fitted\" rel=\"noreferrer\" target=\"_blank\" href=\"https://scikit-learn.org/1.6/modules/generated/sklearn.linear_model.ElasticNet.html\">?<span>Documentation for ElasticNet</span></a><span class=\"sk-estimator-doc-link fitted\">i<span>Fitted</span></span></div></label><div class=\"sk-toggleable__content fitted\"><pre>ElasticNet(random_state=42)</pre></div> </div></div></div></div>"
      ],
      "text/plain": [
       "ElasticNet(random_state=42)"
      ]
     },
     "execution_count": 12,
     "metadata": {},
     "output_type": "execute_result"
    }
   ],
   "source": [
    "from sklearn.linear_model import ElasticNet\n",
    "\n",
    "enr = ElasticNet(alpha=1.0, l1_ratio=0.5, random_state=42)  # Adjust alpha and l1_ratio for regularization\n",
    "enr.fit(X_train, y_train)"
   ]
  },
  {
   "cell_type": "markdown",
   "id": "302da53c-90dc-4121-89d2-21bd0b0e2fdd",
   "metadata": {
    "id": "302da53c-90dc-4121-89d2-21bd0b0e2fdd"
   },
   "source": [
    "# predict test data"
   ]
  },
  {
   "cell_type": "code",
   "execution_count": 13,
   "id": "60e80e24-005a-46c8-8b9c-3706275e894d",
   "metadata": {
    "executionInfo": {
     "elapsed": 358,
     "status": "ok",
     "timestamp": 1735765089907,
     "user": {
      "displayName": "Javad Monsefi",
      "userId": "11903795943444044796"
     },
     "user_tz": -210
    },
    "id": "60e80e24-005a-46c8-8b9c-3706275e894d"
   },
   "outputs": [],
   "source": [
    "yhat_test = enr.predict(X_test)"
   ]
  },
  {
   "cell_type": "markdown",
   "id": "3217015e-2742-40a6-94d7-d3ee7062ce53",
   "metadata": {
    "id": "3217015e-2742-40a6-94d7-d3ee7062ce53"
   },
   "source": [
    "# evaluate the model"
   ]
  },
  {
   "cell_type": "code",
   "execution_count": 14,
   "id": "d73d4f7a-a07d-4808-b25c-a59bb1bffbda",
   "metadata": {
    "colab": {
     "base_uri": "https://localhost:8080/"
    },
    "executionInfo": {
     "elapsed": 555,
     "status": "ok",
     "timestamp": 1735765090963,
     "user": {
      "displayName": "Javad Monsefi",
      "userId": "11903795943444044796"
     },
     "user_tz": -210
    },
    "id": "d73d4f7a-a07d-4808-b25c-a59bb1bffbda",
    "outputId": "d40d1ec6-ced8-429d-a26e-fb4f705197e4"
   },
   "outputs": [
    {
     "name": "stdout",
     "output_type": "stream",
     "text": [
      "r2-score (train data): 0.8304\n",
      "r2-score (test data): 0.8362\n"
     ]
    }
   ],
   "source": [
    "from sklearn.metrics import r2_score\n",
    "\n",
    "print(\"r2-score (train data): %0.4f\" % r2_score(y_train, enr.predict(X_train)))\n",
    "print(\"r2-score (test data): %0.4f\" % r2_score(y_test, yhat_test))"
   ]
  },
  {
   "cell_type": "code",
   "execution_count": 15,
   "id": "243ac54b-ff0b-437e-bbfe-258bef6ad191",
   "metadata": {},
   "outputs": [
    {
     "name": "stdout",
     "output_type": "stream",
     "text": [
      "MSE (train data): 674.3183508244364\n",
      "RMSE (train data): 25.967640455467578\n",
      "MAE (train data): 19.510473657468893\n",
      "------------\n",
      "MSE (test data): 677.1450365554416\n",
      "RMSE (test data): 26.022010617080333\n",
      "MAE (test data): 19.843751228562162\n"
     ]
    }
   ],
   "source": [
    "from sklearn.metrics import mean_squared_error\n",
    "from sklearn.metrics import mean_absolute_error\n",
    "\n",
    "print(f\"MSE (train data): {mean_squared_error(y_train, enr.predict(X_train))}\")\n",
    "print(f\"RMSE (train data): {np.sqrt(mean_squared_error(y_train, enr.predict(X_train)))}\")\n",
    "print(f\"MAE (train data): {mean_absolute_error(y_train, enr.predict(X_train))}\")\n",
    "print('------------')\n",
    "print(f\"MSE (test data): {mean_squared_error(y_test, yhat_test)}\")\n",
    "print(f\"RMSE (test data): {np.sqrt(mean_squared_error(y_test, yhat_test))}\")\n",
    "print(f\"MAE (test data): {mean_absolute_error(y_test, yhat_test)}\")"
   ]
  },
  {
   "cell_type": "markdown",
   "id": "6QonS7yrqXBZ",
   "metadata": {
    "id": "6QonS7yrqXBZ"
   },
   "source": [
    "# save the model"
   ]
  },
  {
   "cell_type": "code",
   "execution_count": 16,
   "id": "djO-DuXLqZa2",
   "metadata": {
    "id": "djO-DuXLqZa2"
   },
   "outputs": [],
   "source": [
    "# import joblib\n",
    "\n",
    "# joblib.dump(enr, 'enr_model.pkl')"
   ]
  },
  {
   "cell_type": "markdown",
   "id": "OZF1P0FrqZzi",
   "metadata": {
    "id": "OZF1P0FrqZzi"
   },
   "source": [
    "# load the model"
   ]
  },
  {
   "cell_type": "code",
   "execution_count": 17,
   "id": "s-np-_CIqbLn",
   "metadata": {
    "id": "s-np-_CIqbLn"
   },
   "outputs": [],
   "source": [
    "# import joblib\n",
    "\n",
    "# enr = joblib.load('enr_model.pkl')"
   ]
  }
 ],
 "metadata": {
  "colab": {
   "provenance": []
  },
  "kernelspec": {
   "display_name": "Python 3 (ipykernel)",
   "language": "python",
   "name": "python3"
  },
  "language_info": {
   "codemirror_mode": {
    "name": "ipython",
    "version": 3
   },
   "file_extension": ".py",
   "mimetype": "text/x-python",
   "name": "python",
   "nbconvert_exporter": "python",
   "pygments_lexer": "ipython3",
   "version": "3.13.5"
  }
 },
 "nbformat": 4,
 "nbformat_minor": 5
}
