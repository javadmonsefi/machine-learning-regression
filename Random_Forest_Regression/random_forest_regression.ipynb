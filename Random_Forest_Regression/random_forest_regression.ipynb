{
 "cells": [
  {
   "cell_type": "markdown",
   "id": "7641677d-8110-41fa-abae-89695f456fa4",
   "metadata": {},
   "source": [
    "### 🔹 Random Forest Regression  \n",
    "\n",
    "Random Forest Regression is an **ensemble learning method** that builds multiple Decision Trees and combines their predictions to achieve better accuracy and robustness.  \n",
    "Instead of relying on a single tree, Random Forest uses the concept of **bagging (Bootstrap Aggregating)** to reduce variance and prevent overfitting.  \n",
    "\n",
    "The main idea:  \n",
    "- A large number of decision trees are trained on random subsets of the data and features.  \n",
    "- Each tree makes a prediction, and the final output is the **average of all predictions**.  \n",
    "- This reduces the risk of errors from individual trees and improves model stability.  \n",
    "\n",
    "Mathematically, if we have \\(N\\) trees:  \n",
    "\n",
    "$$\n",
    "\\hat{Y} = \\frac{1}{N} \\sum_{i=1}^{N} f_i(X)\n",
    "$$  \n",
    "\n",
    "where:  \n",
    "- $(f_i(X))$ is the prediction of the $(i)$-th decision tree,  \n",
    "- $(\\hat{Y})$ is the final predicted value.  \n",
    "\n",
    "Random Forest Regression helps us to:  \n",
    "- Handle **non-linear and complex relationships** in data.  \n",
    "- Improve accuracy compared to a single Decision Tree.  \n",
    "- Provide feature importance insights to understand which variables matter most.  \n",
    "\n",
    "In this notebook, we will implement **Random Forest Regression** and compare its performance with a single Decision Tree 🚀.  \n"
   ]
  },
  {
   "cell_type": "markdown",
   "id": "7eb0d84b-ecfb-4d7c-b35f-23c455d41c39",
   "metadata": {},
   "source": [
    "# --------------------------------------------------------------------------"
   ]
  },
  {
   "cell_type": "markdown",
   "id": "88065de1-73ab-4abb-95ac-2f4137b0ce03",
   "metadata": {
    "id": "88065de1-73ab-4abb-95ac-2f4137b0ce03"
   },
   "source": [
    "# import dataset"
   ]
  },
  {
   "cell_type": "code",
   "execution_count": 1,
   "id": "tidPKyJs4RTJ",
   "metadata": {
    "colab": {
     "base_uri": "https://localhost:8080/",
     "height": 72
    },
    "executionInfo": {
     "elapsed": 70264,
     "status": "ok",
     "timestamp": 1735742054572,
     "user": {
      "displayName": "Javad Monsefi",
      "userId": "11903795943444044796"
     },
     "user_tz": -210
    },
    "id": "tidPKyJs4RTJ",
    "outputId": "16b066db-5b9a-4b9f-b5cf-acba9872723a"
   },
   "outputs": [],
   "source": [
    "# from google.colab import files, drive\n",
    "\n",
    "# up = files.upload()\n",
    "# drive.mount('/content/drive')"
   ]
  },
  {
   "cell_type": "code",
   "execution_count": 2,
   "id": "91ed4cdd-2c56-4621-bf42-d5c96ab6de2f",
   "metadata": {
    "colab": {
     "base_uri": "https://localhost:8080/",
     "height": 143
    },
    "executionInfo": {
     "elapsed": 10,
     "status": "ok",
     "timestamp": 1735742149787,
     "user": {
      "displayName": "Javad Monsefi",
      "userId": "11903795943444044796"
     },
     "user_tz": -210
    },
    "id": "91ed4cdd-2c56-4621-bf42-d5c96ab6de2f",
    "outputId": "b84dabc7-8dd3-4f65-e094-1e89d32fb851"
   },
   "outputs": [
    {
     "data": {
      "text/html": [
       "<div>\n",
       "<style scoped>\n",
       "    .dataframe tbody tr th:only-of-type {\n",
       "        vertical-align: middle;\n",
       "    }\n",
       "\n",
       "    .dataframe tbody tr th {\n",
       "        vertical-align: top;\n",
       "    }\n",
       "\n",
       "    .dataframe thead th {\n",
       "        text-align: right;\n",
       "    }\n",
       "</style>\n",
       "<table border=\"1\" class=\"dataframe\">\n",
       "  <thead>\n",
       "    <tr style=\"text-align: right;\">\n",
       "      <th></th>\n",
       "      <th>A</th>\n",
       "      <th>B</th>\n",
       "      <th>C</th>\n",
       "      <th>T</th>\n",
       "    </tr>\n",
       "  </thead>\n",
       "  <tbody>\n",
       "    <tr>\n",
       "      <th>0</th>\n",
       "      <td>2.0</td>\n",
       "      <td>4</td>\n",
       "      <td>8.5</td>\n",
       "      <td>196</td>\n",
       "    </tr>\n",
       "    <tr>\n",
       "      <th>1</th>\n",
       "      <td>2.4</td>\n",
       "      <td>4</td>\n",
       "      <td>9.6</td>\n",
       "      <td>221</td>\n",
       "    </tr>\n",
       "    <tr>\n",
       "      <th>2</th>\n",
       "      <td>1.5</td>\n",
       "      <td>4</td>\n",
       "      <td>5.9</td>\n",
       "      <td>136</td>\n",
       "    </tr>\n",
       "  </tbody>\n",
       "</table>\n",
       "</div>"
      ],
      "text/plain": [
       "     A  B    C    T\n",
       "0  2.0  4  8.5  196\n",
       "1  2.4  4  9.6  221\n",
       "2  1.5  4  5.9  136"
      ]
     },
     "execution_count": 2,
     "metadata": {},
     "output_type": "execute_result"
    }
   ],
   "source": [
    "import pandas as pd\n",
    "\n",
    "df = pd.read_csv('dataset.csv')\n",
    "df.head(3)"
   ]
  },
  {
   "cell_type": "code",
   "execution_count": 3,
   "id": "f019ab46-0b22-4645-9dd6-0596426be155",
   "metadata": {},
   "outputs": [
    {
     "data": {
      "text/html": [
       "<div>\n",
       "<style scoped>\n",
       "    .dataframe tbody tr th:only-of-type {\n",
       "        vertical-align: middle;\n",
       "    }\n",
       "\n",
       "    .dataframe tbody tr th {\n",
       "        vertical-align: top;\n",
       "    }\n",
       "\n",
       "    .dataframe thead th {\n",
       "        text-align: right;\n",
       "    }\n",
       "</style>\n",
       "<table border=\"1\" class=\"dataframe\">\n",
       "  <thead>\n",
       "    <tr style=\"text-align: right;\">\n",
       "      <th></th>\n",
       "      <th>A</th>\n",
       "      <th>T</th>\n",
       "    </tr>\n",
       "  </thead>\n",
       "  <tbody>\n",
       "    <tr>\n",
       "      <th>0</th>\n",
       "      <td>2.0</td>\n",
       "      <td>196</td>\n",
       "    </tr>\n",
       "    <tr>\n",
       "      <th>1</th>\n",
       "      <td>2.4</td>\n",
       "      <td>221</td>\n",
       "    </tr>\n",
       "    <tr>\n",
       "      <th>2</th>\n",
       "      <td>1.5</td>\n",
       "      <td>136</td>\n",
       "    </tr>\n",
       "  </tbody>\n",
       "</table>\n",
       "</div>"
      ],
      "text/plain": [
       "     A    T\n",
       "0  2.0  196\n",
       "1  2.4  221\n",
       "2  1.5  136"
      ]
     },
     "execution_count": 3,
     "metadata": {},
     "output_type": "execute_result"
    }
   ],
   "source": [
    "df = df[['A', 'T']]\n",
    "df.head(3)"
   ]
  },
  {
   "cell_type": "code",
   "execution_count": 4,
   "id": "gWyI-d911NRN",
   "metadata": {
    "executionInfo": {
     "elapsed": 7,
     "status": "ok",
     "timestamp": 1735742149788,
     "user": {
      "displayName": "Javad Monsefi",
      "userId": "11903795943444044796"
     },
     "user_tz": -210
    },
    "id": "gWyI-d911NRN"
   },
   "outputs": [],
   "source": [
    "# df.info()"
   ]
  },
  {
   "cell_type": "code",
   "execution_count": 5,
   "id": "3a40993c-17ba-47f1-b079-85bd3d5af0d9",
   "metadata": {},
   "outputs": [
    {
     "data": {
      "image/png": "[encoded data removed]",
      "text/plain": [
       "<Figure size 600x400 with 1 Axes>"
      ]
     },
     "metadata": {},
     "output_type": "display_data"
    }
   ],
   "source": [
    "import matplotlib.pyplot as plt\n",
    "\n",
    "plt.figure(figsize=(6,4))\n",
    "plt.scatter(df[['A']], df['T'], s=10, c='b')\n",
    "plt.show()"
   ]
  },
  {
   "cell_type": "markdown",
   "id": "_l4MEcLFCxU1",
   "metadata": {
    "id": "_l4MEcLFCxU1"
   },
   "source": [
    "# cleaning"
   ]
  },
  {
   "cell_type": "code",
   "execution_count": 6,
   "id": "kCmJ57gtCy9_",
   "metadata": {
    "executionInfo": {
     "elapsed": 8,
     "status": "ok",
     "timestamp": 1735742150279,
     "user": {
      "displayName": "Javad Monsefi",
      "userId": "11903795943444044796"
     },
     "user_tz": -210
    },
    "id": "kCmJ57gtCy9_"
   },
   "outputs": [],
   "source": [
    "# clean the data"
   ]
  },
  {
   "cell_type": "markdown",
   "id": "tj1XWAkPC09I",
   "metadata": {
    "id": "tj1XWAkPC09I"
   },
   "source": [
    "# encoding"
   ]
  },
  {
   "cell_type": "code",
   "execution_count": 7,
   "id": "ZbFuBMbeC243",
   "metadata": {
    "executionInfo": {
     "elapsed": 8,
     "status": "ok",
     "timestamp": 1735742150280,
     "user": {
      "displayName": "Javad Monsefi",
      "userId": "11903795943444044796"
     },
     "user_tz": -210
    },
    "id": "ZbFuBMbeC243"
   },
   "outputs": [],
   "source": [
    "# encode the data"
   ]
  },
  {
   "cell_type": "markdown",
   "id": "ec57f34d-2b21-4e5a-9abc-4cd6d4276067",
   "metadata": {
    "id": "ec57f34d-2b21-4e5a-9abc-4cd6d4276067"
   },
   "source": [
    "# define x , y"
   ]
  },
  {
   "cell_type": "code",
   "execution_count": 8,
   "id": "540849e9-e422-433c-b5fb-d07e505c0f0c",
   "metadata": {
    "executionInfo": {
     "elapsed": 7,
     "status": "ok",
     "timestamp": 1735742150280,
     "user": {
      "displayName": "Javad Monsefi",
      "userId": "11903795943444044796"
     },
     "user_tz": -210
    },
    "id": "540849e9-e422-433c-b5fb-d07e505c0f0c"
   },
   "outputs": [],
   "source": [
    "import numpy as np\n",
    "\n",
    "x = df[['A']].values   # 2D\n",
    "y = df['T'].values     # 1D"
   ]
  },
  {
   "cell_type": "markdown",
   "id": "6d914039-316f-4376-81e3-c872a90c4d58",
   "metadata": {
    "id": "6d914039-316f-4376-81e3-c872a90c4d58"
   },
   "source": [
    "# spliting"
   ]
  },
  {
   "cell_type": "code",
   "execution_count": 9,
   "id": "a081d2ba-e186-45af-9c08-1ffc6fa83394",
   "metadata": {},
   "outputs": [],
   "source": [
    "# # finding best random state \n",
    "\n",
    "# from sklearn.model_selection import train_test_split\n",
    "# from sklearn.ensemble import RandomForestRegressor\n",
    "# from sklearn.metrics import r2_score\n",
    "\n",
    "# import time\n",
    "# t1 = time.time()\n",
    "# lst = []\n",
    "# for i in range(1,10):\n",
    "#     x_train, x_test, y_train, y_test = train_test_split(x, y, test_size=0.2, random_state=i) \n",
    "#     rfr = RandomForestRegressor() \n",
    "#     rfr.fit(x_train, y_train)\n",
    "#     yhat_test = rfr.predict(x_test)\n",
    "#     r2 = r2_score(y_test, yhat_test)\n",
    "#     lst.append(r2)\n",
    "# t2 = time.time()\n",
    "\n",
    "# print(f\"run time: {round((t2 - t1) / 60 , 0)} min\")\n",
    "# print(f\"R2_score = {round(max(lst),2)}\")\n",
    "# print(f\"random_state = {np.argmax(lst) + 1}\")"
   ]
  },
  {
   "cell_type": "code",
   "execution_count": 10,
   "id": "c373f51f-d98e-4524-be75-d4acf528e163",
   "metadata": {
    "executionInfo": {
     "elapsed": 6,
     "status": "ok",
     "timestamp": 1735742150280,
     "user": {
      "displayName": "Javad Monsefi",
      "userId": "11903795943444044796"
     },
     "user_tz": -210
    },
    "id": "c373f51f-d98e-4524-be75-d4acf528e163"
   },
   "outputs": [],
   "source": [
    "from sklearn.model_selection import train_test_split\n",
    "\n",
    "x_train, x_test, y_train, y_test = train_test_split(x, y, test_size=0.25, random_state=42)"
   ]
  },
  {
   "cell_type": "markdown",
   "id": "90bb4715-d6a9-47a3-81c8-2cd52099b045",
   "metadata": {
    "id": "90bb4715-d6a9-47a3-81c8-2cd52099b045"
   },
   "source": [
    "# scaling"
   ]
  },
  {
   "cell_type": "code",
   "execution_count": 11,
   "id": "458e9155-67a8-4836-b1ac-e5f22fa306bb",
   "metadata": {
    "executionInfo": {
     "elapsed": 3,
     "status": "ok",
     "timestamp": 1735742153155,
     "user": {
      "displayName": "Javad Monsefi",
      "userId": "11903795943444044796"
     },
     "user_tz": -210
    },
    "id": "458e9155-67a8-4836-b1ac-e5f22fa306bb"
   },
   "outputs": [],
   "source": [
    "# No need for scaling in Random Forest Regression"
   ]
  },
  {
   "cell_type": "markdown",
   "id": "dad28c8d-1289-42e3-ae7b-cf9f99d0cfeb",
   "metadata": {
    "id": "dad28c8d-1289-42e3-ae7b-cf9f99d0cfeb"
   },
   "source": [
    "# train the model"
   ]
  },
  {
   "cell_type": "code",
   "execution_count": 12,
   "id": "e233d5c1-4385-4149-9de6-691f8cc15aab",
   "metadata": {},
   "outputs": [],
   "source": [
    "# # K-fold cross validation\n",
    "\n",
    "# from sklearn.ensemble import RandomForestRegressor\n",
    "# from sklearn.model_selection import GridSearchCV\n",
    "\n",
    "# parameters = {\n",
    "#     'n_estimators': [50, 100, 150],\n",
    "#     'max_depth': [50, 100, 150]\n",
    "# }\n",
    "\n",
    "# rf = RandomForestRegressor()\n",
    "# gs = GridSearchCV(estimator=rf, param_grid=parameters, cv=5)\n",
    "\n",
    "# gs.fit(x_train, y_train)\n",
    "\n",
    "# best_params = gs.best_params_\n",
    "# print(best_params)"
   ]
  },
  {
   "cell_type": "code",
   "execution_count": 13,
   "id": "ehxiecn_DQgH",
   "metadata": {
    "executionInfo": {
     "elapsed": 4,
     "status": "ok",
     "timestamp": 1735742155158,
     "user": {
      "displayName": "Javad Monsefi",
      "userId": "11903795943444044796"
     },
     "user_tz": -210
    },
    "id": "ehxiecn_DQgH"
   },
   "outputs": [],
   "source": [
    "# def param\n",
    "# n_estimators=100, *, criterion='squared_error', max_depth=None, min_samples_split=2, \n",
    "# min_samples_leaf=1, min_weight_fraction_leaf=0.0, max_features=1.0, max_leaf_nodes=None, \n",
    "# min_impurity_decrease=0.0, bootstrap=True, oob_score=False, n_jobs=None, random_state=None, \n",
    "# verbose=0, warm_start=False, ccp_alpha=0.0, max_samples=None, monotonic_cst=None"
   ]
  },
  {
   "cell_type": "code",
   "execution_count": 14,
   "id": "e4338f98-84c1-48c5-ae5d-31e8caf712cc",
   "metadata": {
    "executionInfo": {
     "elapsed": 4,
     "status": "ok",
     "timestamp": 1735742155159,
     "user": {
      "displayName": "Javad Monsefi",
      "userId": "11903795943444044796"
     },
     "user_tz": -210
    },
    "id": "e4338f98-84c1-48c5-ae5d-31e8caf712cc"
   },
   "outputs": [
    {
     "data": {
      "text/html": [
       "<style>#sk-container-id-1 {\n",
       "  /* Definition of color scheme common for light and dark mode */\n",
       "  --sklearn-color-text: #000;\n",
       "  --sklearn-color-text-muted: #666;\n",
       "  --sklearn-color-line: gray;\n",
       "  /* Definition of color scheme for unfitted estimators */\n",
       "  --sklearn-color-unfitted-level-0: #fff5e6;\n",
       "  --sklearn-color-unfitted-level-1: #f6e4d2;\n",
       "  --sklearn-color-unfitted-level-2: #ffe0b3;\n",
       "  --sklearn-color-unfitted-level-3: chocolate;\n",
       "  /* Definition of color scheme for fitted estimators */\n",
       "  --sklearn-color-fitted-level-0: #f0f8ff;\n",
       "  --sklearn-color-fitted-level-1: #d4ebff;\n",
       "  --sklearn-color-fitted-level-2: #b3dbfd;\n",
       "  --sklearn-color-fitted-level-3: cornflowerblue;\n",
       "\n",
       "  /* Specific color for light theme */\n",
       "  --sklearn-color-text-on-default-background: var(--sg-text-color, var(--theme-code-foreground, var(--jp-content-font-color1, black)));\n",
       "  --sklearn-color-background: var(--sg-background-color, var(--theme-background, var(--jp-layout-color0, white)));\n",
       "  --sklearn-color-border-box: var(--sg-text-color, var(--theme-code-foreground, var(--jp-content-font-color1, black)));\n",
       "  --sklearn-color-icon: #696969;\n",
       "\n",
       "  @media (prefers-color-scheme: dark) {\n",
       "    /* Redefinition of color scheme for dark theme */\n",
       "    --sklearn-color-text-on-default-background: var(--sg-text-color, var(--theme-code-foreground, var(--jp-content-font-color1, white)));\n",
       "    --sklearn-color-background: var(--sg-background-color, var(--theme-background, var(--jp-layout-color0, #111)));\n",
       "    --sklearn-color-border-box: var(--sg-text-color, var(--theme-code-foreground, var(--jp-content-font-color1, white)));\n",
       "    --sklearn-color-icon: #878787;\n",
       "  }\n",
       "}\n",
       "\n",
       "#sk-container-id-1 {\n",
       "  color: var(--sklearn-color-text);\n",
       "}\n",
       "\n",
       "#sk-container-id-1 pre {\n",
       "  padding: 0;\n",
       "}\n",
       "\n",
       "#sk-container-id-1 input.sk-hidden--visually {\n",
       "  border: 0;\n",
       "  clip: rect(1px 1px 1px 1px);\n",
       "  clip: rect(1px, 1px, 1px, 1px);\n",
       "  height: 1px;\n",
       "  margin: -1px;\n",
       "  overflow: hidden;\n",
       "  padding: 0;\n",
       "  position: absolute;\n",
       "  width: 1px;\n",
       "}\n",
       "\n",
       "#sk-container-id-1 div.sk-dashed-wrapped {\n",
       "  border: 1px dashed var(--sklearn-color-line);\n",
       "  margin: 0 0.4em 0.5em 0.4em;\n",
       "  box-sizing: border-box;\n",
       "  padding-bottom: 0.4em;\n",
       "  background-color: var(--sklearn-color-background);\n",
       "}\n",
       "\n",
       "#sk-container-id-1 div.sk-container {\n",
       "  /* jupyter's `normalize.less` sets `[hidden] { display: none; }`\n",
       "     but bootstrap.min.css set `[hidden] { display: none !important; }`\n",
       "     so we also need the `!important` here to be able to override the\n",
       "     default hidden behavior on the sphinx rendered scikit-learn.org.\n",
       "     See: https://github.com/scikit-learn/scikit-learn/issues/21755 */\n",
       "  display: inline-block !important;\n",
       "  position: relative;\n",
       "}\n",
       "\n",
       "#sk-container-id-1 div.sk-text-repr-fallback {\n",
       "  display: none;\n",
       "}\n",
       "\n",
       "div.sk-parallel-item,\n",
       "div.sk-serial,\n",
       "div.sk-item {\n",
       "  /* draw centered vertical line to link estimators */\n",
       "  background-image: linear-gradient(var(--sklearn-color-text-on-default-background), var(--sklearn-color-text-on-default-background));\n",
       "  background-size: 2px 100%;\n",
       "  background-repeat: no-repeat;\n",
       "  background-position: center center;\n",
       "}\n",
       "\n",
       "/* Parallel-specific style estimator block */\n",
       "\n",
       "#sk-container-id-1 div.sk-parallel-item::after {\n",
       "  content: \"\";\n",
       "  width: 100%;\n",
       "  border-bottom: 2px solid var(--sklearn-color-text-on-default-background);\n",
       "  flex-grow: 1;\n",
       "}\n",
       "\n",
       "#sk-container-id-1 div.sk-parallel {\n",
       "  display: flex;\n",
       "  align-items: stretch;\n",
       "  justify-content: center;\n",
       "  background-color: var(--sklearn-color-background);\n",
       "  position: relative;\n",
       "}\n",
       "\n",
       "#sk-container-id-1 div.sk-parallel-item {\n",
       "  display: flex;\n",
       "  flex-direction: column;\n",
       "}\n",
       "\n",
       "#sk-container-id-1 div.sk-parallel-item:first-child::after {\n",
       "  align-self: flex-end;\n",
       "  width: 50%;\n",
       "}\n",
       "\n",
       "#sk-container-id-1 div.sk-parallel-item:last-child::after {\n",
       "  align-self: flex-start;\n",
       "  width: 50%;\n",
       "}\n",
       "\n",
       "#sk-container-id-1 div.sk-parallel-item:only-child::after {\n",
       "  width: 0;\n",
       "}\n",
       "\n",
       "/* Serial-specific style estimator block */\n",
       "\n",
       "#sk-container-id-1 div.sk-serial {\n",
       "  display: flex;\n",
       "  flex-direction: column;\n",
       "  align-items: center;\n",
       "  background-color: var(--sklearn-color-background);\n",
       "  padding-right: 1em;\n",
       "  padding-left: 1em;\n",
       "}\n",
       "\n",
       "\n",
       "/* Toggleable style: style used for estimator/Pipeline/ColumnTransformer box that is\n",
       "clickable and can be expanded/collapsed.\n",
       "- Pipeline and ColumnTransformer use this feature and define the default style\n",
       "- Estimators will overwrite some part of the style using the `sk-estimator` class\n",
       "*/\n",
       "\n",
       "/* Pipeline and ColumnTransformer style (default) */\n",
       "\n",
       "#sk-container-id-1 div.sk-toggleable {\n",
       "  /* Default theme specific background. It is overwritten whether we have a\n",
       "  specific estimator or a Pipeline/ColumnTransformer */\n",
       "  background-color: var(--sklearn-color-background);\n",
       "}\n",
       "\n",
       "/* Toggleable label */\n",
       "#sk-container-id-1 label.sk-toggleable__label {\n",
       "  cursor: pointer;\n",
       "  display: flex;\n",
       "  width: 100%;\n",
       "  margin-bottom: 0;\n",
       "  padding: 0.5em;\n",
       "  box-sizing: border-box;\n",
       "  text-align: center;\n",
       "  align-items: start;\n",
       "  justify-content: space-between;\n",
       "  gap: 0.5em;\n",
       "}\n",
       "\n",
       "#sk-container-id-1 label.sk-toggleable__label .caption {\n",
       "  font-size: 0.6rem;\n",
       "  font-weight: lighter;\n",
       "  color: var(--sklearn-color-text-muted);\n",
       "}\n",
       "\n",
       "#sk-container-id-1 label.sk-toggleable__label-arrow:before {\n",
       "  /* Arrow on the left of the label */\n",
       "  content: \"▸\";\n",
       "  float: left;\n",
       "  margin-right: 0.25em;\n",
       "  color: var(--sklearn-color-icon);\n",
       "}\n",
       "\n",
       "#sk-container-id-1 label.sk-toggleable__label-arrow:hover:before {\n",
       "  color: var(--sklearn-color-text);\n",
       "}\n",
       "\n",
       "/* Toggleable content - dropdown */\n",
       "\n",
       "#sk-container-id-1 div.sk-toggleable__content {\n",
       "  max-height: 0;\n",
       "  max-width: 0;\n",
       "  overflow: hidden;\n",
       "  text-align: left;\n",
       "  /* unfitted */\n",
       "  background-color: var(--sklearn-color-unfitted-level-0);\n",
       "}\n",
       "\n",
       "#sk-container-id-1 div.sk-toggleable__content.fitted {\n",
       "  /* fitted */\n",
       "  background-color: var(--sklearn-color-fitted-level-0);\n",
       "}\n",
       "\n",
       "#sk-container-id-1 div.sk-toggleable__content pre {\n",
       "  margin: 0.2em;\n",
       "  border-radius: 0.25em;\n",
       "  color: var(--sklearn-color-text);\n",
       "  /* unfitted */\n",
       "  background-color: var(--sklearn-color-unfitted-level-0);\n",
       "}\n",
       "\n",
       "#sk-container-id-1 div.sk-toggleable__content.fitted pre {\n",
       "  /* unfitted */\n",
       "  background-color: var(--sklearn-color-fitted-level-0);\n",
       "}\n",
       "\n",
       "#sk-container-id-1 input.sk-toggleable__control:checked~div.sk-toggleable__content {\n",
       "  /* Expand drop-down */\n",
       "  max-height: 200px;\n",
       "  max-width: 100%;\n",
       "  overflow: auto;\n",
       "}\n",
       "\n",
       "#sk-container-id-1 input.sk-toggleable__control:checked~label.sk-toggleable__label-arrow:before {\n",
       "  content: \"▾\";\n",
       "}\n",
       "\n",
       "/* Pipeline/ColumnTransformer-specific style */\n",
       "\n",
       "#sk-container-id-1 div.sk-label input.sk-toggleable__control:checked~label.sk-toggleable__label {\n",
       "  color: var(--sklearn-color-text);\n",
       "  background-color: var(--sklearn-color-unfitted-level-2);\n",
       "}\n",
       "\n",
       "#sk-container-id-1 div.sk-label.fitted input.sk-toggleable__control:checked~label.sk-toggleable__label {\n",
       "  background-color: var(--sklearn-color-fitted-level-2);\n",
       "}\n",
       "\n",
       "/* Estimator-specific style */\n",
       "\n",
       "/* Colorize estimator box */\n",
       "#sk-container-id-1 div.sk-estimator input.sk-toggleable__control:checked~label.sk-toggleable__label {\n",
       "  /* unfitted */\n",
       "  background-color: var(--sklearn-color-unfitted-level-2);\n",
       "}\n",
       "\n",
       "#sk-container-id-1 div.sk-estimator.fitted input.sk-toggleable__control:checked~label.sk-toggleable__label {\n",
       "  /* fitted */\n",
       "  background-color: var(--sklearn-color-fitted-level-2);\n",
       "}\n",
       "\n",
       "#sk-container-id-1 div.sk-label label.sk-toggleable__label,\n",
       "#sk-container-id-1 div.sk-label label {\n",
       "  /* The background is the default theme color */\n",
       "  color: var(--sklearn-color-text-on-default-background);\n",
       "}\n",
       "\n",
       "/* On hover, darken the color of the background */\n",
       "#sk-container-id-1 div.sk-label:hover label.sk-toggleable__label {\n",
       "  color: var(--sklearn-color-text);\n",
       "  background-color: var(--sklearn-color-unfitted-level-2);\n",
       "}\n",
       "\n",
       "/* Label box, darken color on hover, fitted */\n",
       "#sk-container-id-1 div.sk-label.fitted:hover label.sk-toggleable__label.fitted {\n",
       "  color: var(--sklearn-color-text);\n",
       "  background-color: var(--sklearn-color-fitted-level-2);\n",
       "}\n",
       "\n",
       "/* Estimator label */\n",
       "\n",
       "#sk-container-id-1 div.sk-label label {\n",
       "  font-family: monospace;\n",
       "  font-weight: bold;\n",
       "  display: inline-block;\n",
       "  line-height: 1.2em;\n",
       "}\n",
       "\n",
       "#sk-container-id-1 div.sk-label-container {\n",
       "  text-align: center;\n",
       "}\n",
       "\n",
       "/* Estimator-specific */\n",
       "#sk-container-id-1 div.sk-estimator {\n",
       "  font-family: monospace;\n",
       "  border: 1px dotted var(--sklearn-color-border-box);\n",
       "  border-radius: 0.25em;\n",
       "  box-sizing: border-box;\n",
       "  margin-bottom: 0.5em;\n",
       "  /* unfitted */\n",
       "  background-color: var(--sklearn-color-unfitted-level-0);\n",
       "}\n",
       "\n",
       "#sk-container-id-1 div.sk-estimator.fitted {\n",
       "  /* fitted */\n",
       "  background-color: var(--sklearn-color-fitted-level-0);\n",
       "}\n",
       "\n",
       "/* on hover */\n",
       "#sk-container-id-1 div.sk-estimator:hover {\n",
       "  /* unfitted */\n",
       "  background-color: var(--sklearn-color-unfitted-level-2);\n",
       "}\n",
       "\n",
       "#sk-container-id-1 div.sk-estimator.fitted:hover {\n",
       "  /* fitted */\n",
       "  background-color: var(--sklearn-color-fitted-level-2);\n",
       "}\n",
       "\n",
       "/* Specification for estimator info (e.g. \"i\" and \"?\") */\n",
       "\n",
       "/* Common style for \"i\" and \"?\" */\n",
       "\n",
       ".sk-estimator-doc-link,\n",
       "a:link.sk-estimator-doc-link,\n",
       "a:visited.sk-estimator-doc-link {\n",
       "  float: right;\n",
       "  font-size: smaller;\n",
       "  line-height: 1em;\n",
       "  font-family: monospace;\n",
       "  background-color: var(--sklearn-color-background);\n",
       "  border-radius: 1em;\n",
       "  height: 1em;\n",
       "  width: 1em;\n",
       "  text-decoration: none !important;\n",
       "  margin-left: 0.5em;\n",
       "  text-align: center;\n",
       "  /* unfitted */\n",
       "  border: var(--sklearn-color-unfitted-level-1) 1pt solid;\n",
       "  color: var(--sklearn-color-unfitted-level-1);\n",
       "}\n",
       "\n",
       ".sk-estimator-doc-link.fitted,\n",
       "a:link.sk-estimator-doc-link.fitted,\n",
       "a:visited.sk-estimator-doc-link.fitted {\n",
       "  /* fitted */\n",
       "  border: var(--sklearn-color-fitted-level-1) 1pt solid;\n",
       "  color: var(--sklearn-color-fitted-level-1);\n",
       "}\n",
       "\n",
       "/* On hover */\n",
       "div.sk-estimator:hover .sk-estimator-doc-link:hover,\n",
       ".sk-estimator-doc-link:hover,\n",
       "div.sk-label-container:hover .sk-estimator-doc-link:hover,\n",
       ".sk-estimator-doc-link:hover {\n",
       "  /* unfitted */\n",
       "  background-color: var(--sklearn-color-unfitted-level-3);\n",
       "  color: var(--sklearn-color-background);\n",
       "  text-decoration: none;\n",
       "}\n",
       "\n",
       "div.sk-estimator.fitted:hover .sk-estimator-doc-link.fitted:hover,\n",
       ".sk-estimator-doc-link.fitted:hover,\n",
       "div.sk-label-container:hover .sk-estimator-doc-link.fitted:hover,\n",
       ".sk-estimator-doc-link.fitted:hover {\n",
       "  /* fitted */\n",
       "  background-color: var(--sklearn-color-fitted-level-3);\n",
       "  color: var(--sklearn-color-background);\n",
       "  text-decoration: none;\n",
       "}\n",
       "\n",
       "/* Span, style for the box shown on hovering the info icon */\n",
       ".sk-estimator-doc-link span {\n",
       "  display: none;\n",
       "  z-index: 9999;\n",
       "  position: relative;\n",
       "  font-weight: normal;\n",
       "  right: .2ex;\n",
       "  padding: .5ex;\n",
       "  margin: .5ex;\n",
       "  width: min-content;\n",
       "  min-width: 20ex;\n",
       "  max-width: 50ex;\n",
       "  color: var(--sklearn-color-text);\n",
       "  box-shadow: 2pt 2pt 4pt #999;\n",
       "  /* unfitted */\n",
       "  background: var(--sklearn-color-unfitted-level-0);\n",
       "  border: .5pt solid var(--sklearn-color-unfitted-level-3);\n",
       "}\n",
       "\n",
       ".sk-estimator-doc-link.fitted span {\n",
       "  /* fitted */\n",
       "  background: var(--sklearn-color-fitted-level-0);\n",
       "  border: var(--sklearn-color-fitted-level-3);\n",
       "}\n",
       "\n",
       ".sk-estimator-doc-link:hover span {\n",
       "  display: block;\n",
       "}\n",
       "\n",
       "/* \"?\"-specific style due to the `<a>` HTML tag */\n",
       "\n",
       "#sk-container-id-1 a.estimator_doc_link {\n",
       "  float: right;\n",
       "  font-size: 1rem;\n",
       "  line-height: 1em;\n",
       "  font-family: monospace;\n",
       "  background-color: var(--sklearn-color-background);\n",
       "  border-radius: 1rem;\n",
       "  height: 1rem;\n",
       "  width: 1rem;\n",
       "  text-decoration: none;\n",
       "  /* unfitted */\n",
       "  color: var(--sklearn-color-unfitted-level-1);\n",
       "  border: var(--sklearn-color-unfitted-level-1) 1pt solid;\n",
       "}\n",
       "\n",
       "#sk-container-id-1 a.estimator_doc_link.fitted {\n",
       "  /* fitted */\n",
       "  border: var(--sklearn-color-fitted-level-1) 1pt solid;\n",
       "  color: var(--sklearn-color-fitted-level-1);\n",
       "}\n",
       "\n",
       "/* On hover */\n",
       "#sk-container-id-1 a.estimator_doc_link:hover {\n",
       "  /* unfitted */\n",
       "  background-color: var(--sklearn-color-unfitted-level-3);\n",
       "  color: var(--sklearn-color-background);\n",
       "  text-decoration: none;\n",
       "}\n",
       "\n",
       "#sk-container-id-1 a.estimator_doc_link.fitted:hover {\n",
       "  /* fitted */\n",
       "  background-color: var(--sklearn-color-fitted-level-3);\n",
       "}\n",
       "</style><div id=\"sk-container-id-1\" class=\"sk-top-container\"><div class=\"sk-text-repr-fallback\"><pre>RandomForestRegressor(n_estimators=300)</pre><b>In a Jupyter environment, please rerun this cell to show the HTML representation or trust the notebook. <br />On GitHub, the HTML representation is unable to render, please try loading this page with nbviewer.org.</b></div><div class=\"sk-container\" hidden><div class=\"sk-item\"><div class=\"sk-estimator fitted sk-toggleable\"><input class=\"sk-toggleable__control sk-hidden--visually\" id=\"sk-estimator-id-1\" type=\"checkbox\" checked><label for=\"sk-estimator-id-1\" class=\"sk-toggleable__label fitted sk-toggleable__label-arrow\"><div><div>RandomForestRegressor</div></div><div><a class=\"sk-estimator-doc-link fitted\" rel=\"noreferrer\" target=\"_blank\" href=\"https://scikit-learn.org/1.6/modules/generated/sklearn.ensemble.RandomForestRegressor.html\">?<span>Documentation for RandomForestRegressor</span></a><span class=\"sk-estimator-doc-link fitted\">i<span>Fitted</span></span></div></label><div class=\"sk-toggleable__content fitted\"><pre>RandomForestRegressor(n_estimators=300)</pre></div> </div></div></div></div>"
      ],
      "text/plain": [
       "RandomForestRegressor(n_estimators=300)"
      ]
     },
     "execution_count": 14,
     "metadata": {},
     "output_type": "execute_result"
    }
   ],
   "source": [
    "from sklearn.ensemble import RandomForestRegressor\n",
    "\n",
    "rfr = RandomForestRegressor(n_estimators=300)\n",
    "rfr.fit(x_train, y_train)"
   ]
  },
  {
   "cell_type": "code",
   "execution_count": 15,
   "id": "90891d4d-8f8b-47ee-b46a-bf621e6d1fd7",
   "metadata": {},
   "outputs": [
    {
     "data": {
      "image/png": "[encoded data removed]",
      "text/plain": [
       "<Figure size 640x480 with 1 Axes>"
      ]
     },
     "metadata": {},
     "output_type": "display_data"
    }
   ],
   "source": [
    "plt.scatter(x_train, y_train, color='b', s=10)\n",
    "xx = np.arange(np.min(x_train), np.max(x_train), 0.01).reshape(-1, 1)\n",
    "plt.plot(xx, rfr.predict(xx), color='r')\n",
    "plt.show()"
   ]
  },
  {
   "cell_type": "markdown",
   "id": "6711da48-6994-4072-9484-19c37e26046c",
   "metadata": {
    "id": "6711da48-6994-4072-9484-19c37e26046c"
   },
   "source": [
    "# predict test data"
   ]
  },
  {
   "cell_type": "code",
   "execution_count": 16,
   "id": "7775e14d-f55e-4435-863a-3d52f7d34c03",
   "metadata": {
    "executionInfo": {
     "elapsed": 3,
     "status": "ok",
     "timestamp": 1735742157284,
     "user": {
      "displayName": "Javad Monsefi",
      "userId": "11903795943444044796"
     },
     "user_tz": -210
    },
    "id": "7775e14d-f55e-4435-863a-3d52f7d34c03"
   },
   "outputs": [],
   "source": [
    "yhat_test = rfr.predict(x_test)"
   ]
  },
  {
   "cell_type": "markdown",
   "id": "dbcc6179-b643-40af-947c-b255d70616e4",
   "metadata": {
    "id": "dbcc6179-b643-40af-947c-b255d70616e4"
   },
   "source": [
    "# evaluating the moodel"
   ]
  },
  {
   "cell_type": "code",
   "execution_count": 17,
   "id": "d80ae08e-9b32-4672-96c5-4597753f9060",
   "metadata": {
    "colab": {
     "base_uri": "https://localhost:8080/"
    },
    "executionInfo": {
     "elapsed": 5,
     "status": "ok",
     "timestamp": 1735742158520,
     "user": {
      "displayName": "Javad Monsefi",
      "userId": "11903795943444044796"
     },
     "user_tz": -210
    },
    "id": "d80ae08e-9b32-4672-96c5-4597753f9060",
    "outputId": "901a60b6-f9c8-4bbd-f0a3-7dc73aa4b0d7"
   },
   "outputs": [
    {
     "name": "stdout",
     "output_type": "stream",
     "text": [
      "r2-score (train data): 0.8172\n",
      "r2-score (test data): 0.8077\n"
     ]
    }
   ],
   "source": [
    "from sklearn.metrics import r2_score\n",
    "\n",
    "print(\"r2-score (train data): %0.4f\" % r2_score(y_train, rfr.predict(x_train)))\n",
    "print(\"r2-score (test data): %0.4f\" % r2_score(y_test, yhat_test))"
   ]
  },
  {
   "cell_type": "code",
   "execution_count": 18,
   "id": "eee71caa-3cdc-4456-be5d-f1ace0641432",
   "metadata": {},
   "outputs": [
    {
     "name": "stdout",
     "output_type": "stream",
     "text": [
      "MSE (train data): 725.2524730693635\n",
      "RMSE (train data): 26.93051193478066\n",
      "MAE (train data): 20.615688311073427\n",
      "------------\n",
      "MSE (test data): 797.6419818902306\n",
      "RMSE (test data): 28.242556220891736\n",
      "MAE (test data): 21.06199463132279\n"
     ]
    }
   ],
   "source": [
    "from sklearn.metrics import mean_squared_error\n",
    "from sklearn.metrics import mean_absolute_error\n",
    "\n",
    "print(f\"MSE (train data): {mean_squared_error(y_train, rfr.predict(x_train))}\")\n",
    "print(f\"RMSE (train data): {np.sqrt(mean_squared_error(y_train, rfr.predict(x_train)))}\")\n",
    "print(f\"MAE (train data): {mean_absolute_error(y_train, rfr.predict(x_train))}\")\n",
    "print('------------')\n",
    "print(f\"MSE (test data): {mean_squared_error(y_test, yhat_test)}\")\n",
    "print(f\"RMSE (test data): {np.sqrt(mean_squared_error(y_test, yhat_test))}\")\n",
    "print(f\"MAE (test data): {mean_absolute_error(y_test, yhat_test)}\")"
   ]
  },
  {
   "cell_type": "markdown",
   "id": "bb4edaf4-6a20-4e63-ad36-c949ea475571",
   "metadata": {
    "id": "bb4edaf4-6a20-4e63-ad36-c949ea475571"
   },
   "source": [
    "# predict new data"
   ]
  },
  {
   "cell_type": "code",
   "execution_count": 19,
   "id": "bbb8b456-21aa-4e68-abb7-e51e476d6c70",
   "metadata": {
    "colab": {
     "base_uri": "https://localhost:8080/"
    },
    "executionInfo": {
     "elapsed": 305,
     "status": "ok",
     "timestamp": 1735742214594,
     "user": {
      "displayName": "Javad Monsefi",
      "userId": "11903795943444044796"
     },
     "user_tz": -210
    },
    "id": "bbb8b456-21aa-4e68-abb7-e51e476d6c70",
    "outputId": "9920e358-ca8e-4438-e3b7-29f133df0cf4"
   },
   "outputs": [
    {
     "data": {
      "text/plain": [
       "array([208.99483971])"
      ]
     },
     "execution_count": 19,
     "metadata": {},
     "output_type": "execute_result"
    }
   ],
   "source": [
    "rfr.predict([[2]])"
   ]
  },
  {
   "cell_type": "markdown",
   "id": "w3cs7NvrS0SL",
   "metadata": {
    "id": "w3cs7NvrS0SL"
   },
   "source": [
    "# feature importance"
   ]
  },
  {
   "cell_type": "code",
   "execution_count": 20,
   "id": "OxlOo1OiS4K3",
   "metadata": {
    "colab": {
     "base_uri": "https://localhost:8080/"
    },
    "executionInfo": {
     "elapsed": 301,
     "status": "ok",
     "timestamp": 1735742241475,
     "user": {
      "displayName": "Javad Monsefi",
      "userId": "11903795943444044796"
     },
     "user_tz": -210
    },
    "id": "OxlOo1OiS4K3",
    "outputId": "93935c36-aac9-4aa2-8aae-4220128688f8"
   },
   "outputs": [],
   "source": [
    "# importances = rfr.feature_importances_\n",
    "# X = df[['A', 'B', 'C']]\n",
    "# feature_names = X.columns\n",
    "\n",
    "# print(importances)\n",
    "# print(feature_names)"
   ]
  },
  {
   "cell_type": "code",
   "execution_count": 21,
   "id": "coFKCayQS7eo",
   "metadata": {
    "colab": {
     "base_uri": "https://localhost:8080/"
    },
    "executionInfo": {
     "elapsed": 295,
     "status": "ok",
     "timestamp": 1735742244917,
     "user": {
      "displayName": "Javad Monsefi",
      "userId": "11903795943444044796"
     },
     "user_tz": -210
    },
    "id": "coFKCayQS7eo",
    "outputId": "8b9a5c86-0e5c-4529-fc54-69deed17d557"
   },
   "outputs": [],
   "source": [
    "# fi = pd.DataFrame({'Feature': feature_names, 'Importance': importances})\n",
    "# fi = fi.sort_values(by='Importance', ascending=False)\n",
    "# print(fi)"
   ]
  },
  {
   "cell_type": "markdown",
   "id": "q2uJlBM6DovE",
   "metadata": {
    "id": "q2uJlBM6DovE"
   },
   "source": [
    "# save the model"
   ]
  },
  {
   "cell_type": "code",
   "execution_count": 22,
   "id": "Tvf7kj4ADqNt",
   "metadata": {
    "id": "Tvf7kj4ADqNt"
   },
   "outputs": [],
   "source": [
    "# import joblib\n",
    "\n",
    "# joblib.dump(rfr, 'rfr_model.pkl')"
   ]
  },
  {
   "cell_type": "markdown",
   "id": "ZnZFOLwXDqkx",
   "metadata": {
    "id": "ZnZFOLwXDqkx"
   },
   "source": [
    "# load the model"
   ]
  },
  {
   "cell_type": "code",
   "execution_count": 23,
   "id": "b6UNoC6aDr9B",
   "metadata": {
    "id": "b6UNoC6aDr9B"
   },
   "outputs": [],
   "source": [
    "# import joblib\n",
    "\n",
    "# rfr = joblib.load('rfr_model.pkl')"
   ]
  }
 ],
 "metadata": {
  "colab": {
   "provenance": []
  },
  "kernelspec": {
   "display_name": "Python 3 (ipykernel)",
   "language": "python",
   "name": "python3"
  },
  "language_info": {
   "codemirror_mode": {
    "name": "ipython",
    "version": 3
   },
   "file_extension": ".py",
   "mimetype": "text/x-python",
   "name": "python",
   "nbconvert_exporter": "python",
   "pygments_lexer": "ipython3",
   "version": "3.13.5"
  }
 },
 "nbformat": 4,
 "nbformat_minor": 5
}
