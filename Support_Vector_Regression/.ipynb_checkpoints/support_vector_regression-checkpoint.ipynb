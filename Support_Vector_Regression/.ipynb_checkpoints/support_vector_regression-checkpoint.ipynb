{
 "cells": [
  {
   "cell_type": "markdown",
   "id": "db0e9151-c3b3-41c8-8bfb-345c59a79513",
   "metadata": {},
   "source": [
    "### 🔹 Support Vector Regression (SVR)  \n",
    "\n",
    "Support Vector Regression (SVR) is a powerful regression technique based on the principles of **Support Vector Machines (SVMs)**.  \n",
    "Unlike simple linear models, SVR tries to fit the best line (or curve) within a certain **margin of tolerance** (called epsilon), allowing for more robust predictions in noisy datasets.  \n",
    "\n",
    "The main idea of SVR:  \n",
    "- Instead of minimizing the error for each data point, SVR focuses on keeping the errors **within a defined margin (ε-insensitive zone)**.  \n",
    "- Data points outside this margin are called **support vectors**, and they determine the final regression model.  \n",
    "\n",
    "The mathematical representation can be written as:  \n",
    "\n",
    "$$\n",
    "f(x) = w^T \\phi(x) + b\n",
    "$$  \n",
    "\n",
    "where: \n",
    "- $w$ are the model weights,\n",
    "- $\\phi$ is a transformation function (can map input to higher dimensions), \n",
    "- $b$ is the intercept.  \n",
    "\n",
    "SVR helps us to:  \n",
    "- Handle both **linear and non-linear** regression problems.  \n",
    "- Achieve better generalization in noisy datasets.  \n",
    "- Leverage kernel functions (linear, polynomial, RBF, etc.) to capture complex relationships.  \n",
    "\n",
    "In this notebook, we will implement **Support Vector Regression** and explore how different kernels affect model performance 🚀.  \n"
   ]
  },
  {
   "cell_type": "markdown",
   "id": "4f4da9c1-aaea-4e18-9b47-ce4b3680f337",
   "metadata": {},
   "source": [
    "# --------------------------------------------------------------------------"
   ]
  },
  {
   "cell_type": "markdown",
   "id": "54bbe608-91f8-46ee-9b57-52e9b0b0879e",
   "metadata": {
    "id": "54bbe608-91f8-46ee-9b57-52e9b0b0879e"
   },
   "source": [
    "# import dataset"
   ]
  },
  {
   "cell_type": "code",
   "execution_count": 1,
   "id": "sWf4pZMS23cK",
   "metadata": {
    "colab": {
     "base_uri": "https://localhost:8080/",
     "height": 73
    },
    "executionInfo": {
     "elapsed": 11260,
     "status": "ok",
     "timestamp": 1735667838469,
     "user": {
      "displayName": "Javad Monsefi",
      "userId": "11903795943444044796"
     },
     "user_tz": -210
    },
    "id": "sWf4pZMS23cK",
    "outputId": "eabfea96-4903-40af-9355-cf70f8e8536f"
   },
   "outputs": [],
   "source": [
    "# from google.colab import files, drive\n",
    "\n",
    "# up = files.upload()\n",
    "# drive.mount('/content/drive')"
   ]
  },
  {
   "cell_type": "code",
   "execution_count": 2,
   "id": "cc76b32a-a4cb-4fa6-a861-c56902666a58",
   "metadata": {
    "colab": {
     "base_uri": "https://localhost:8080/",
     "height": 143
    },
    "executionInfo": {
     "elapsed": 433,
     "status": "ok",
     "timestamp": 1735667842428,
     "user": {
      "displayName": "Javad Monsefi",
      "userId": "11903795943444044796"
     },
     "user_tz": -210
    },
    "id": "cc76b32a-a4cb-4fa6-a861-c56902666a58",
    "outputId": "5d64e22c-115c-4025-f085-c6c5a32d490d"
   },
   "outputs": [
    {
     "data": {
      "text/html": [
       "<div>\n",
       "<style scoped>\n",
       "    .dataframe tbody tr th:only-of-type {\n",
       "        vertical-align: middle;\n",
       "    }\n",
       "\n",
       "    .dataframe tbody tr th {\n",
       "        vertical-align: top;\n",
       "    }\n",
       "\n",
       "    .dataframe thead th {\n",
       "        text-align: right;\n",
       "    }\n",
       "</style>\n",
       "<table border=\"1\" class=\"dataframe\">\n",
       "  <thead>\n",
       "    <tr style=\"text-align: right;\">\n",
       "      <th></th>\n",
       "      <th>A</th>\n",
       "      <th>B</th>\n",
       "      <th>C</th>\n",
       "      <th>T</th>\n",
       "    </tr>\n",
       "  </thead>\n",
       "  <tbody>\n",
       "    <tr>\n",
       "      <th>0</th>\n",
       "      <td>2.0</td>\n",
       "      <td>4</td>\n",
       "      <td>8.5</td>\n",
       "      <td>196</td>\n",
       "    </tr>\n",
       "    <tr>\n",
       "      <th>1</th>\n",
       "      <td>2.4</td>\n",
       "      <td>4</td>\n",
       "      <td>9.6</td>\n",
       "      <td>221</td>\n",
       "    </tr>\n",
       "    <tr>\n",
       "      <th>2</th>\n",
       "      <td>1.5</td>\n",
       "      <td>4</td>\n",
       "      <td>5.9</td>\n",
       "      <td>136</td>\n",
       "    </tr>\n",
       "  </tbody>\n",
       "</table>\n",
       "</div>"
      ],
      "text/plain": [
       "     A  B    C    T\n",
       "0  2.0  4  8.5  196\n",
       "1  2.4  4  9.6  221\n",
       "2  1.5  4  5.9  136"
      ]
     },
     "execution_count": 2,
     "metadata": {},
     "output_type": "execute_result"
    }
   ],
   "source": [
    "import pandas as pd\n",
    "\n",
    "df = pd.read_csv('dataset.csv')\n",
    "df.head(3)"
   ]
  },
  {
   "cell_type": "code",
   "execution_count": 3,
   "id": "99ced6f3-226e-452a-8c9c-9a6134c30977",
   "metadata": {},
   "outputs": [
    {
     "data": {
      "text/html": [
       "<div>\n",
       "<style scoped>\n",
       "    .dataframe tbody tr th:only-of-type {\n",
       "        vertical-align: middle;\n",
       "    }\n",
       "\n",
       "    .dataframe tbody tr th {\n",
       "        vertical-align: top;\n",
       "    }\n",
       "\n",
       "    .dataframe thead th {\n",
       "        text-align: right;\n",
       "    }\n",
       "</style>\n",
       "<table border=\"1\" class=\"dataframe\">\n",
       "  <thead>\n",
       "    <tr style=\"text-align: right;\">\n",
       "      <th></th>\n",
       "      <th>A</th>\n",
       "      <th>T</th>\n",
       "    </tr>\n",
       "  </thead>\n",
       "  <tbody>\n",
       "    <tr>\n",
       "      <th>0</th>\n",
       "      <td>2.0</td>\n",
       "      <td>196</td>\n",
       "    </tr>\n",
       "    <tr>\n",
       "      <th>1</th>\n",
       "      <td>2.4</td>\n",
       "      <td>221</td>\n",
       "    </tr>\n",
       "    <tr>\n",
       "      <th>2</th>\n",
       "      <td>1.5</td>\n",
       "      <td>136</td>\n",
       "    </tr>\n",
       "  </tbody>\n",
       "</table>\n",
       "</div>"
      ],
      "text/plain": [
       "     A    T\n",
       "0  2.0  196\n",
       "1  2.4  221\n",
       "2  1.5  136"
      ]
     },
     "execution_count": 3,
     "metadata": {},
     "output_type": "execute_result"
    }
   ],
   "source": [
    "df = df[['A', 'T']]\n",
    "df.head(3)"
   ]
  },
  {
   "cell_type": "markdown",
   "id": "85WE4_6d8DUl",
   "metadata": {
    "id": "85WE4_6d8DUl"
   },
   "source": [
    "# cleaning"
   ]
  },
  {
   "cell_type": "code",
   "execution_count": 4,
   "id": "ibm2ccFL8FK3",
   "metadata": {
    "id": "ibm2ccFL8FK3"
   },
   "outputs": [],
   "source": [
    "# clean the data"
   ]
  },
  {
   "cell_type": "markdown",
   "id": "sIkhijcS8HIW",
   "metadata": {
    "id": "sIkhijcS8HIW"
   },
   "source": [
    "# encoding"
   ]
  },
  {
   "cell_type": "code",
   "execution_count": 5,
   "id": "4Jo2UKxJ8Je3",
   "metadata": {
    "executionInfo": {
     "elapsed": 642,
     "status": "ok",
     "timestamp": 1735669113762,
     "user": {
      "displayName": "Javad Monsefi",
      "userId": "11903795943444044796"
     },
     "user_tz": -210
    },
    "id": "4Jo2UKxJ8Je3"
   },
   "outputs": [],
   "source": [
    "# encode the data"
   ]
  },
  {
   "cell_type": "markdown",
   "id": "93990eb6-8e22-4b11-9787-84d3d7aa52f1",
   "metadata": {
    "id": "93990eb6-8e22-4b11-9787-84d3d7aa52f1"
   },
   "source": [
    "# define x , y"
   ]
  },
  {
   "cell_type": "code",
   "execution_count": 6,
   "id": "ee9d5871-b0d4-487e-8098-78b3f1fe1957",
   "metadata": {},
   "outputs": [],
   "source": [
    "# x and y must be define as 2D"
   ]
  },
  {
   "cell_type": "code",
   "execution_count": 7,
   "id": "1dd8592b-79bf-413b-8047-9b9455005bdb",
   "metadata": {
    "id": "1dd8592b-79bf-413b-8047-9b9455005bdb"
   },
   "outputs": [],
   "source": [
    "import numpy as np\n",
    "\n",
    "x = np.array(df[['A']])   # 2D\n",
    "y = np.array(df[['T']])   # 2D"
   ]
  },
  {
   "cell_type": "markdown",
   "id": "fb47aa3a-f0e4-4f9a-91fa-7dd04b26f05f",
   "metadata": {
    "id": "fb47aa3a-f0e4-4f9a-91fa-7dd04b26f05f"
   },
   "source": [
    "# train test split"
   ]
  },
  {
   "cell_type": "code",
   "execution_count": 8,
   "id": "88a74e07-b34c-48f9-995b-c6003b153cb9",
   "metadata": {},
   "outputs": [],
   "source": [
    "# # finding best random state \n",
    "\n",
    "# from sklearn.model_selection import train_test_split\n",
    "# from sklearn.preprocessing import StandardScaler\n",
    "# sc_x = StandardScaler()\n",
    "# sc_y = StandardScaler()\n",
    "# from sklearn.svm import SVR\n",
    "# svr = SVR()\n",
    "# from sklearn.metrics import r2_score\n",
    "\n",
    "# import time\n",
    "# t1 = time.time()\n",
    "# lst = []\n",
    "# for i in range(1,10):\n",
    "#     x_train, x_test, y_train, y_test = train_test_split(x, y, test_size=0.25, random_state=i)\n",
    "#     x_train = sc_x.fit_transform(x_train)\n",
    "#     x_test = sc_x.transform(x_test)\n",
    "#     y_train = sc_y.fit_transform(y_train)\n",
    "#     y_test = sc_y.transform(y_test)\n",
    "#     y_train = np.ravel(y_train)\n",
    "#     y_test = np.ravel(y_test)\n",
    "#     svr.fit(x_train, y_train)\n",
    "#     yhat_test = svr.predict(x_test)\n",
    "#     r2 = r2_score(y_test, yhat_test)\n",
    "#     lst.append(r2)\n",
    "\n",
    "# t2 = time.time()\n",
    "# print(f\"run time: {round((t2 - t1) / 60 , 0)} min\")\n",
    "# print(f\"r2_score: {round(max(lst), 2)}\")\n",
    "# rs = np.argmax(lst) + 1\n",
    "# print(f\"random_state: {rs}\")"
   ]
  },
  {
   "cell_type": "code",
   "execution_count": null,
   "id": "4d557390-b973-485a-bf8c-4cd63aac7e1a",
   "metadata": {
    "id": "4d557390-b973-485a-bf8c-4cd63aac7e1a"
   },
   "outputs": [],
   "source": [
    "from sklearn.model_selection import train_test_split\n",
    "\n",
    "x_train, x_test, y_train, y_test = train_test_split(x, y, test_size=0.25, random_state=42)"
   ]
  },
  {
   "cell_type": "code",
   "execution_count": null,
   "id": "0df1d84f-6d8c-4679-9aa5-df48a75e6b51",
   "metadata": {},
   "outputs": [],
   "source": [
    "x[:5]"
   ]
  },
  {
   "cell_type": "code",
   "execution_count": null,
   "id": "8e71a16d-1020-4f8e-8057-8044581ac7cc",
   "metadata": {
    "colab": {
     "base_uri": "https://localhost:8080/"
    },
    "executionInfo": {
     "elapsed": 389,
     "status": "ok",
     "timestamp": 1735667917287,
     "user": {
      "displayName": "Javad Monsefi",
      "userId": "11903795943444044796"
     },
     "user_tz": -210
    },
    "id": "8e71a16d-1020-4f8e-8057-8044581ac7cc",
    "outputId": "1cfbaeab-95ed-4b04-acd4-68b532c2dc13"
   },
   "outputs": [],
   "source": [
    "y_train[:5]"
   ]
  },
  {
   "cell_type": "markdown",
   "id": "7726d16b-3682-43dd-af5c-38e1cca52242",
   "metadata": {
    "id": "7726d16b-3682-43dd-af5c-38e1cca52242"
   },
   "source": [
    "# feature scaling"
   ]
  },
  {
   "cell_type": "code",
   "execution_count": null,
   "id": "ac795f65-2989-40d2-a491-14014c104382",
   "metadata": {
    "id": "ac795f65-2989-40d2-a491-14014c104382"
   },
   "outputs": [],
   "source": [
    "from sklearn.preprocessing import StandardScaler, MinMaxScaler\n",
    "\n",
    "sc_x = StandardScaler().fit(x_train)\n",
    "sc_y = StandardScaler().fit(y_train)"
   ]
  },
  {
   "cell_type": "code",
   "execution_count": null,
   "id": "9ee8a8d2-3077-429b-844b-0f06ea74308b",
   "metadata": {
    "id": "9ee8a8d2-3077-429b-844b-0f06ea74308b"
   },
   "outputs": [],
   "source": [
    "x_train = sc_x.transform(x_train)\n",
    "x_test = sc_x.transform(x_test)\n",
    "\n",
    "y_train = sc_y.transform(y_train)\n",
    "y_test = sc_y.transform(y_test)\n",
    "\n",
    "y_train = np.ravel(y_train)\n",
    "y_test = np.ravel(y_test)"
   ]
  },
  {
   "cell_type": "code",
   "execution_count": null,
   "id": "04987144-91cf-4187-8535-e43d75237969",
   "metadata": {
    "colab": {
     "base_uri": "https://localhost:8080/"
    },
    "executionInfo": {
     "elapsed": 10,
     "status": "ok",
     "timestamp": 1735667973687,
     "user": {
      "displayName": "Javad Monsefi",
      "userId": "11903795943444044796"
     },
     "user_tz": -210
    },
    "id": "04987144-91cf-4187-8535-e43d75237969",
    "outputId": "7f2d7595-611c-4092-91c9-10e6f2952906"
   },
   "outputs": [],
   "source": [
    "y_train[:5]"
   ]
  },
  {
   "cell_type": "markdown",
   "id": "ddac9b2b-847c-4af1-82e5-c469a51ce0fa",
   "metadata": {
    "id": "ddac9b2b-847c-4af1-82e5-c469a51ce0fa"
   },
   "source": [
    "# fit train data"
   ]
  },
  {
   "cell_type": "code",
   "execution_count": null,
   "id": "28948b9e-e7d8-4e30-a8cd-b6fff4d334cb",
   "metadata": {},
   "outputs": [],
   "source": [
    "# # K-fold cross validation\n",
    "\n",
    "# from sklearn.svm import SVR\n",
    "# from sklearn.model_selection import GridSearchCV\n",
    "\n",
    "# parameters = {\n",
    "#     '': [],\n",
    "#     '': []\n",
    "# }\n",
    "\n",
    "# sv = SVR()\n",
    "# gs = GridSearchCV(estimator=sv, param_grid=parameters, cv=5)\n",
    "\n",
    "# gs.fit(x_train, y_train)\n",
    "\n",
    "# best_params = gs.best_params_\n",
    "# print(best_params)"
   ]
  },
  {
   "cell_type": "code",
   "execution_count": null,
   "id": "mAOyeGfc4yZV",
   "metadata": {
    "id": "mAOyeGfc4yZV"
   },
   "outputs": [],
   "source": [
    "# def param\n",
    "# kernel='rbf', degree=3, gamma='scale', coef0=0.0, tol=0.001, C=1.0\n",
    "# epsilon=0.1, shrinking=True, cache_size=200, verbose=False, max_iter=-1"
   ]
  },
  {
   "cell_type": "code",
   "execution_count": null,
   "id": "0b8b4227-4f6e-4b9e-b52b-b8181eed9951",
   "metadata": {
    "colab": {
     "base_uri": "https://localhost:8080/",
     "height": 80
    },
    "executionInfo": {
     "elapsed": 408,
     "status": "ok",
     "timestamp": 1735667980014,
     "user": {
      "displayName": "Javad Monsefi",
      "userId": "11903795943444044796"
     },
     "user_tz": -210
    },
    "id": "0b8b4227-4f6e-4b9e-b52b-b8181eed9951",
    "outputId": "9403ab7f-aaa9-4ff7-ed13-a715665ac483"
   },
   "outputs": [],
   "source": [
    "from sklearn.svm import SVR\n",
    "\n",
    "svr = SVR()\n",
    "svr.fit(x_train, y_train)"
   ]
  },
  {
   "cell_type": "code",
   "execution_count": null,
   "id": "de9e4eaf-91e7-43a8-86af-0c46ed370dc3",
   "metadata": {
    "colab": {
     "base_uri": "https://localhost:8080/",
     "height": 430
    },
    "executionInfo": {
     "elapsed": 541,
     "status": "ok",
     "timestamp": 1735668331688,
     "user": {
      "displayName": "Javad Monsefi",
      "userId": "11903795943444044796"
     },
     "user_tz": -210
    },
    "id": "de9e4eaf-91e7-43a8-86af-0c46ed370dc3",
    "outputId": "b08f8df8-2d0c-45aa-cda6-ddb680554863"
   },
   "outputs": [],
   "source": [
    "import matplotlib.pyplot as plt\n",
    "\n",
    "plt.scatter(x_train, y_train, color='b', s=15)\n",
    "xx = np.arange(np.min(x_train), np.max(x_train), 0.01).reshape(-1, 1)\n",
    "plt.plot(xx, svr.predict(xx), color='r')\n",
    "plt.show()"
   ]
  },
  {
   "cell_type": "markdown",
   "id": "1ecfc279-9d89-42c0-bafc-1518fe3a3cee",
   "metadata": {
    "id": "1ecfc279-9d89-42c0-bafc-1518fe3a3cee"
   },
   "source": [
    "# predict test data"
   ]
  },
  {
   "cell_type": "code",
   "execution_count": null,
   "id": "b98f5752-147c-4eac-80a2-813c8fcd3d88",
   "metadata": {
    "id": "b98f5752-147c-4eac-80a2-813c8fcd3d88"
   },
   "outputs": [],
   "source": [
    "yhat_test = svr.predict(x_test)"
   ]
  },
  {
   "cell_type": "code",
   "execution_count": null,
   "id": "c581ffe3-c86a-48c3-9a13-62b659087e46",
   "metadata": {
    "colab": {
     "base_uri": "https://localhost:8080/"
    },
    "executionInfo": {
     "elapsed": 10,
     "status": "ok",
     "timestamp": 1735668001168,
     "user": {
      "displayName": "Javad Monsefi",
      "userId": "11903795943444044796"
     },
     "user_tz": -210
    },
    "id": "c581ffe3-c86a-48c3-9a13-62b659087e46",
    "outputId": "aee2b4a7-b3b3-4a9b-9b3f-c0d3f29d0dbe"
   },
   "outputs": [],
   "source": [
    "yhat_test[:5]"
   ]
  },
  {
   "cell_type": "markdown",
   "id": "9af61f12-0362-499d-b6ec-7e9e78dde15f",
   "metadata": {
    "id": "9af61f12-0362-499d-b6ec-7e9e78dde15f"
   },
   "source": [
    "# evaluating the model"
   ]
  },
  {
   "cell_type": "code",
   "execution_count": null,
   "id": "d69494f6-8559-43f9-915e-226b41f6af30",
   "metadata": {
    "colab": {
     "base_uri": "https://localhost:8080/"
    },
    "executionInfo": {
     "elapsed": 563,
     "status": "ok",
     "timestamp": 1735668005401,
     "user": {
      "displayName": "Javad Monsefi",
      "userId": "11903795943444044796"
     },
     "user_tz": -210
    },
    "id": "d69494f6-8559-43f9-915e-226b41f6af30",
    "outputId": "8c01eca7-6374-4ee7-b769-1dab4fd03e6b"
   },
   "outputs": [],
   "source": [
    "from sklearn.metrics import r2_score\n",
    "\n",
    "print(\"r2-score (train data): %0.4f\" % r2_score(y_train, svr.predict(x_train)))\n",
    "print(\"r2-score (test data): %0.4f\" % r2_score(y_test, yhat_test))"
   ]
  },
  {
   "cell_type": "code",
   "execution_count": null,
   "id": "44323cbf-00bc-49b3-afd6-c79b60323202",
   "metadata": {},
   "outputs": [],
   "source": [
    "from sklearn.metrics import mean_squared_error, mean_absolute_error\n",
    "\n",
    "print(f\"MSE (train data): {mean_squared_error(y_train, svr.predict(x_train))}\")\n",
    "print(f\"RMSE (train data): {np.sqrt(mean_squared_error(y_train, svr.predict(x_train)))}\")\n",
    "print(f\"MAE (train data): {mean_absolute_error(y_train, svr.predict(x_train))}\")\n",
    "print('------------')\n",
    "print(f\"MSE (test data): {mean_squared_error(y_test, yhat_test)}\")\n",
    "print(f\"RMSE (test data): {np.sqrt(mean_squared_error(y_test, yhat_test))}\")\n",
    "print(f\"MAE (test data): {mean_absolute_error(y_test, yhat_test)}\")"
   ]
  },
  {
   "cell_type": "markdown",
   "id": "82376775-6d12-42e8-8dc6-7fe41297181c",
   "metadata": {
    "id": "82376775-6d12-42e8-8dc6-7fe41297181c"
   },
   "source": [
    "# predict new data"
   ]
  },
  {
   "cell_type": "code",
   "execution_count": null,
   "id": "02595723-3157-43d3-b9df-c90a1117fd68",
   "metadata": {
    "colab": {
     "base_uri": "https://localhost:8080/"
    },
    "executionInfo": {
     "elapsed": 424,
     "status": "ok",
     "timestamp": 1735668017069,
     "user": {
      "displayName": "Javad Monsefi",
      "userId": "11903795943444044796"
     },
     "user_tz": -210
    },
    "id": "02595723-3157-43d3-b9df-c90a1117fd68",
    "outputId": "71423576-49e4-44cb-d438-f3ba7a048688"
   },
   "outputs": [],
   "source": [
    "sc_y.inverse_transform(svr.predict(sc_x.transform([[5.5]])).reshape(-1, 1))"
   ]
  },
  {
   "cell_type": "markdown",
   "id": "1e0YKZXS5UFe",
   "metadata": {
    "id": "1e0YKZXS5UFe"
   },
   "source": [
    "# save the model"
   ]
  },
  {
   "cell_type": "code",
   "execution_count": null,
   "id": "BniGZUUK5Vmh",
   "metadata": {
    "colab": {
     "base_uri": "https://localhost:8080/"
    },
    "executionInfo": {
     "elapsed": 15,
     "status": "ok",
     "timestamp": 1735668392219,
     "user": {
      "displayName": "Javad Monsefi",
      "userId": "11903795943444044796"
     },
     "user_tz": -210
    },
    "id": "BniGZUUK5Vmh",
    "outputId": "189eb619-6736-4e79-f72f-a33c7e289163"
   },
   "outputs": [],
   "source": [
    "# import joblib\n",
    "\n",
    "# joblib.dump(svr, 'svr_model.pkl')"
   ]
  },
  {
   "cell_type": "markdown",
   "id": "bOvW3rhc5fXk",
   "metadata": {
    "id": "bOvW3rhc5fXk"
   },
   "source": [
    "# load the model"
   ]
  },
  {
   "cell_type": "code",
   "execution_count": null,
   "id": "cxVueSDK5dxY",
   "metadata": {
    "id": "cxVueSDK5dxY"
   },
   "outputs": [],
   "source": [
    "# import joblib\n",
    "\n",
    "# svr = joblib.load('svr_model.pkl')"
   ]
  }
 ],
 "metadata": {
  "colab": {
   "provenance": []
  },
  "kernelspec": {
   "display_name": "Python 3 (ipykernel)",
   "language": "python",
   "name": "python3"
  },
  "language_info": {
   "codemirror_mode": {
    "name": "ipython",
    "version": 3
   },
   "file_extension": ".py",
   "mimetype": "text/x-python",
   "name": "python",
   "nbconvert_exporter": "python",
   "pygments_lexer": "ipython3",
   "version": "3.13.5"
  }
 },
 "nbformat": 4,
 "nbformat_minor": 5
}
