{
 "cells": [
  {
   "cell_type": "markdown",
   "id": "6e8a10d3-1773-456c-92fc-98fd84ce874a",
   "metadata": {
    "panel-layout": {
     "height": 350.7045593261719,
     "visible": true,
     "width": 100
    }
   },
   "source": [
    "### 🔹 Simple Linear Regression  \n",
    "\n",
    "Simple Linear Regression is one of the most fundamental and powerful techniques in machine learning.  \n",
    "The main idea is to fit a straight line that best describes the relationship between **one input feature (X)** and **one target variable (Y)**.  \n",
    "\n",
    "Mathematically, it can be expressed as:  \n",
    "\n",
    "$$\n",
    "Y = aX + b\n",
    "$$\n",
    "\n",
    "where:  \n",
    "- \\(a\\) represents the slope of the line (how much Y changes when X increases by 1 unit),  \n",
    "- \\(b\\) is the intercept (the value of Y when X = 0).  \n",
    "\n",
    "In practice, this model helps us to:  \n",
    "- Predict how Y changes as X changes.  \n",
    "- Discover hidden trends and patterns in data.  \n",
    "- Build a solid foundation for more advanced machine learning algorithms.  \n",
    "\n",
    "In this notebook, we will implement Simple Linear Regression step by step and see how even a simple line can provide powerful insights 🚀.  \n"
   ]
  },
  {
   "cell_type": "markdown",
   "id": "e4e6aa8a-f363-4448-a2a2-a444202b6569",
   "metadata": {
    "id": "e4e6aa8a-f363-4448-a2a2-a444202b6569",
    "panel-layout": {
     "height": 60.602272033691406,
     "visible": true,
     "width": 100
    }
   },
   "source": [
    "# --------------------------------------------------------------------------"
   ]
  },
  {
   "cell_type": "markdown",
   "id": "cbec918d-c091-41ce-9635-47836f00f041",
   "metadata": {
    "id": "cbec918d-c091-41ce-9635-47836f00f041",
    "panel-layout": {
     "height": 60.602272033691406,
     "visible": true,
     "width": 100
    }
   },
   "source": [
    "# import dataset"
   ]
  },
  {
   "cell_type": "code",
   "execution_count": 1,
   "id": "TsYMYQOvyh4V",
   "metadata": {
    "colab": {
     "base_uri": "https://localhost:8080/",
     "height": 73
    },
    "executionInfo": {
     "elapsed": 41549,
     "status": "ok",
     "timestamp": 1735668692767,
     "user": {
      "displayName": "Javad Monsefi",
      "userId": "11903795943444044796"
     },
     "user_tz": -210
    },
    "id": "TsYMYQOvyh4V",
    "outputId": "6ff69529-0463-4e79-d20a-8dcb69ac030f"
   },
   "outputs": [],
   "source": [
    "# from google.colab import files, drive\n",
    "\n",
    "# up = files.upload()\n",
    "# drive.mount('/content/drive')"
   ]
  },
  {
   "cell_type": "code",
   "execution_count": 2,
   "id": "1941ccbf-97e9-405f-b361-4696c8ec01f5",
   "metadata": {
    "colab": {
     "base_uri": "https://localhost:8080/",
     "height": 143
    },
    "executionInfo": {
     "elapsed": 12,
     "status": "ok",
     "timestamp": 1735669213780,
     "user": {
      "displayName": "Javad Monsefi",
      "userId": "11903795943444044796"
     },
     "user_tz": -210
    },
    "id": "1941ccbf-97e9-405f-b361-4696c8ec01f5",
    "outputId": "327ee8cd-4941-41f7-89a4-643229ff8ad6",
    "panel-layout": {
     "height": 170,
     "visible": true,
     "width": 100
    }
   },
   "outputs": [
    {
     "data": {
      "text/html": [
       "<div>\n",
       "<style scoped>\n",
       "    .dataframe tbody tr th:only-of-type {\n",
       "        vertical-align: middle;\n",
       "    }\n",
       "\n",
       "    .dataframe tbody tr th {\n",
       "        vertical-align: top;\n",
       "    }\n",
       "\n",
       "    .dataframe thead th {\n",
       "        text-align: right;\n",
       "    }\n",
       "</style>\n",
       "<table border=\"1\" class=\"dataframe\">\n",
       "  <thead>\n",
       "    <tr style=\"text-align: right;\">\n",
       "      <th></th>\n",
       "      <th>f1</th>\n",
       "      <th>T</th>\n",
       "    </tr>\n",
       "  </thead>\n",
       "  <tbody>\n",
       "    <tr>\n",
       "      <th>0</th>\n",
       "      <td>2.0</td>\n",
       "      <td>196.0</td>\n",
       "    </tr>\n",
       "    <tr>\n",
       "      <th>1</th>\n",
       "      <td>2.4</td>\n",
       "      <td>221.0</td>\n",
       "    </tr>\n",
       "    <tr>\n",
       "      <th>2</th>\n",
       "      <td>1.5</td>\n",
       "      <td>136.0</td>\n",
       "    </tr>\n",
       "    <tr>\n",
       "      <th>3</th>\n",
       "      <td>3.5</td>\n",
       "      <td>255.0</td>\n",
       "    </tr>\n",
       "    <tr>\n",
       "      <th>4</th>\n",
       "      <td>3.5</td>\n",
       "      <td>244.0</td>\n",
       "    </tr>\n",
       "  </tbody>\n",
       "</table>\n",
       "</div>"
      ],
      "text/plain": [
       "    f1      T\n",
       "0  2.0  196.0\n",
       "1  2.4  221.0\n",
       "2  1.5  136.0\n",
       "3  3.5  255.0\n",
       "4  3.5  244.0"
      ]
     },
     "execution_count": 2,
     "metadata": {},
     "output_type": "execute_result"
    }
   ],
   "source": [
    "import pandas as pd\n",
    "\n",
    "df = pd.read_csv('dataset.csv')\n",
    "df.head()"
   ]
  },
  {
   "cell_type": "code",
   "execution_count": 3,
   "id": "491158b3-5b0e-4562-ad0d-d318513fb338",
   "metadata": {
    "id": "491158b3-5b0e-4562-ad0d-d318513fb338",
    "panel-layout": {
     "height": 249.63638305664062,
     "visible": true,
     "width": 100
    }
   },
   "outputs": [
    {
     "data": {
      "text/html": [
       "<div>\n",
       "<style scoped>\n",
       "    .dataframe tbody tr th:only-of-type {\n",
       "        vertical-align: middle;\n",
       "    }\n",
       "\n",
       "    .dataframe tbody tr th {\n",
       "        vertical-align: top;\n",
       "    }\n",
       "\n",
       "    .dataframe thead th {\n",
       "        text-align: right;\n",
       "    }\n",
       "</style>\n",
       "<table border=\"1\" class=\"dataframe\">\n",
       "  <thead>\n",
       "    <tr style=\"text-align: right;\">\n",
       "      <th></th>\n",
       "      <th>f1</th>\n",
       "      <th>T</th>\n",
       "    </tr>\n",
       "  </thead>\n",
       "  <tbody>\n",
       "    <tr>\n",
       "      <th>count</th>\n",
       "      <td>1062.000000</td>\n",
       "      <td>1063.000000</td>\n",
       "    </tr>\n",
       "    <tr>\n",
       "      <th>mean</th>\n",
       "      <td>3.346987</td>\n",
       "      <td>256.111007</td>\n",
       "    </tr>\n",
       "    <tr>\n",
       "      <th>std</th>\n",
       "      <td>1.417491</td>\n",
       "      <td>63.426611</td>\n",
       "    </tr>\n",
       "    <tr>\n",
       "      <th>min</th>\n",
       "      <td>1.000000</td>\n",
       "      <td>108.000000</td>\n",
       "    </tr>\n",
       "    <tr>\n",
       "      <th>25%</th>\n",
       "      <td>2.000000</td>\n",
       "      <td>207.000000</td>\n",
       "    </tr>\n",
       "    <tr>\n",
       "      <th>50%</th>\n",
       "      <td>3.400000</td>\n",
       "      <td>251.000000</td>\n",
       "    </tr>\n",
       "    <tr>\n",
       "      <th>75%</th>\n",
       "      <td>4.300000</td>\n",
       "      <td>294.000000</td>\n",
       "    </tr>\n",
       "    <tr>\n",
       "      <th>max</th>\n",
       "      <td>8.400000</td>\n",
       "      <td>488.000000</td>\n",
       "    </tr>\n",
       "  </tbody>\n",
       "</table>\n",
       "</div>"
      ],
      "text/plain": [
       "                f1            T\n",
       "count  1062.000000  1063.000000\n",
       "mean      3.346987   256.111007\n",
       "std       1.417491    63.426611\n",
       "min       1.000000   108.000000\n",
       "25%       2.000000   207.000000\n",
       "50%       3.400000   251.000000\n",
       "75%       4.300000   294.000000\n",
       "max       8.400000   488.000000"
      ]
     },
     "execution_count": 3,
     "metadata": {},
     "output_type": "execute_result"
    }
   ],
   "source": [
    "df.describe()"
   ]
  },
  {
   "cell_type": "code",
   "execution_count": 4,
   "id": "0ea8010e-f4b9-436d-a92c-3bf41f966a70",
   "metadata": {
    "panel-layout": {
     "height": 0,
     "visible": true,
     "width": 100
    }
   },
   "outputs": [
    {
     "name": "stdout",
     "output_type": "stream",
     "text": [
      "<class 'pandas.core.frame.DataFrame'>\n",
      "RangeIndex: 1067 entries, 0 to 1066\n",
      "Data columns (total 2 columns):\n",
      " #   Column  Non-Null Count  Dtype  \n",
      "---  ------  --------------  -----  \n",
      " 0   f1      1062 non-null   float64\n",
      " 1   T       1063 non-null   float64\n",
      "dtypes: float64(2)\n",
      "memory usage: 16.8 KB\n"
     ]
    }
   ],
   "source": [
    "# df.size\n",
    "# df.shape\n",
    "df.info()"
   ]
  },
  {
   "cell_type": "markdown",
   "id": "7f70ee35-357f-427a-8dc8-d58a5f668026",
   "metadata": {
    "id": "7f70ee35-357f-427a-8dc8-d58a5f668026",
    "panel-layout": {
     "height": 60.602272033691406,
     "visible": true,
     "width": 100
    }
   },
   "source": [
    "# cleaning"
   ]
  },
  {
   "cell_type": "code",
   "execution_count": 5,
   "id": "c4351e81-2484-422a-a6bb-118ebfaa5a48",
   "metadata": {
    "panel-layout": {
     "height": 276.18182373046875,
     "visible": true,
     "width": 100
    }
   },
   "outputs": [
    {
     "data": {
      "text/html": [
       "<div>\n",
       "<style scoped>\n",
       "    .dataframe tbody tr th:only-of-type {\n",
       "        vertical-align: middle;\n",
       "    }\n",
       "\n",
       "    .dataframe tbody tr th {\n",
       "        vertical-align: top;\n",
       "    }\n",
       "\n",
       "    .dataframe thead th {\n",
       "        text-align: right;\n",
       "    }\n",
       "</style>\n",
       "<table border=\"1\" class=\"dataframe\">\n",
       "  <thead>\n",
       "    <tr style=\"text-align: right;\">\n",
       "      <th></th>\n",
       "      <th>f1</th>\n",
       "      <th>T</th>\n",
       "    </tr>\n",
       "  </thead>\n",
       "  <tbody>\n",
       "    <tr>\n",
       "      <th>21</th>\n",
       "      <td>NaN</td>\n",
       "      <td>214.0</td>\n",
       "    </tr>\n",
       "    <tr>\n",
       "      <th>72</th>\n",
       "      <td>NaN</td>\n",
       "      <td>322.0</td>\n",
       "    </tr>\n",
       "    <tr>\n",
       "      <th>117</th>\n",
       "      <td>NaN</td>\n",
       "      <td>292.0</td>\n",
       "    </tr>\n",
       "    <tr>\n",
       "      <th>162</th>\n",
       "      <td>NaN</td>\n",
       "      <td>258.0</td>\n",
       "    </tr>\n",
       "    <tr>\n",
       "      <th>201</th>\n",
       "      <td>NaN</td>\n",
       "      <td>192.0</td>\n",
       "    </tr>\n",
       "    <tr>\n",
       "      <th>246</th>\n",
       "      <td>6.2</td>\n",
       "      <td>NaN</td>\n",
       "    </tr>\n",
       "    <tr>\n",
       "      <th>288</th>\n",
       "      <td>3.6</td>\n",
       "      <td>NaN</td>\n",
       "    </tr>\n",
       "    <tr>\n",
       "      <th>330</th>\n",
       "      <td>3.6</td>\n",
       "      <td>NaN</td>\n",
       "    </tr>\n",
       "    <tr>\n",
       "      <th>373</th>\n",
       "      <td>3.5</td>\n",
       "      <td>NaN</td>\n",
       "    </tr>\n",
       "  </tbody>\n",
       "</table>\n",
       "</div>"
      ],
      "text/plain": [
       "      f1      T\n",
       "21   NaN  214.0\n",
       "72   NaN  322.0\n",
       "117  NaN  292.0\n",
       "162  NaN  258.0\n",
       "201  NaN  192.0\n",
       "246  6.2    NaN\n",
       "288  3.6    NaN\n",
       "330  3.6    NaN\n",
       "373  3.5    NaN"
      ]
     },
     "execution_count": 5,
     "metadata": {},
     "output_type": "execute_result"
    }
   ],
   "source": [
    "df[df.isna().any(axis=1)]"
   ]
  },
  {
   "cell_type": "markdown",
   "id": "ab022281-3cd0-4386-9646-b19673f69c8e",
   "metadata": {
    "panel-layout": {
     "height": 44.07954788208008,
     "visible": true,
     "width": 100
    }
   },
   "source": [
    "### dropna , fillna"
   ]
  },
  {
   "cell_type": "code",
   "execution_count": 6,
   "id": "dec017d9-5e48-4b60-afed-dcf84b69b35a",
   "metadata": {
    "id": "dec017d9-5e48-4b60-afed-dcf84b69b35a",
    "panel-layout": {
     "height": 0,
     "visible": true,
     "width": 100
    }
   },
   "outputs": [],
   "source": [
    "# clean the data \n",
    "\n",
    "df.dropna(subset = ['f1'], inplace = True)\n",
    "\n",
    "df.fillna(value = {'T': df['T'].mean()}, inplace = True)"
   ]
  },
  {
   "cell_type": "code",
   "execution_count": 7,
   "id": "32fca2de-72c3-4c48-bc3c-5154bded1a7d",
   "metadata": {
    "panel-layout": {
     "height": 37.272727966308594,
     "visible": true,
     "width": 100
    }
   },
   "outputs": [
    {
     "data": {
      "text/html": [
       "<div>\n",
       "<style scoped>\n",
       "    .dataframe tbody tr th:only-of-type {\n",
       "        vertical-align: middle;\n",
       "    }\n",
       "\n",
       "    .dataframe tbody tr th {\n",
       "        vertical-align: top;\n",
       "    }\n",
       "\n",
       "    .dataframe thead th {\n",
       "        text-align: right;\n",
       "    }\n",
       "</style>\n",
       "<table border=\"1\" class=\"dataframe\">\n",
       "  <thead>\n",
       "    <tr style=\"text-align: right;\">\n",
       "      <th></th>\n",
       "      <th>f1</th>\n",
       "      <th>T</th>\n",
       "    </tr>\n",
       "  </thead>\n",
       "  <tbody>\n",
       "  </tbody>\n",
       "</table>\n",
       "</div>"
      ],
      "text/plain": [
       "Empty DataFrame\n",
       "Columns: [f1, T]\n",
       "Index: []"
      ]
     },
     "execution_count": 7,
     "metadata": {},
     "output_type": "execute_result"
    }
   ],
   "source": [
    "df[df.isna().any(axis=1)]"
   ]
  },
  {
   "cell_type": "code",
   "execution_count": 8,
   "id": "bf192d34-d977-4f93-98db-39af8dfa516b",
   "metadata": {
    "colab": {
     "base_uri": "https://localhost:8080/",
     "height": 430
    },
    "executionInfo": {
     "elapsed": 694,
     "status": "ok",
     "timestamp": 1735669216248,
     "user": {
      "displayName": "Javad Monsefi",
      "userId": "11903795943444044796"
     },
     "user_tz": -210
    },
    "id": "bf192d34-d977-4f93-98db-39af8dfa516b",
    "outputId": "dc41585d-4185-4f08-c630-c6e3c0e3a996",
    "panel-layout": {
     "height": 701.0001220703125,
     "visible": true,
     "width": 100
    }
   },
   "outputs": [
    {
     "data": {
      "image/png": "[encoded data removed]",
      "text/plain": [
       "<Figure size 640x480 with 1 Axes>"
      ]
     },
     "metadata": {},
     "output_type": "display_data"
    }
   ],
   "source": [
    "import matplotlib.pyplot as plt\n",
    "\n",
    "plt.scatter(df['f1'], df['T'], s=10, color='blue')\n",
    "plt.show()"
   ]
  },
  {
   "cell_type": "markdown",
   "id": "dfd1aab6",
   "metadata": {
    "panel-layout": {
     "height": 60.602272033691406,
     "visible": true,
     "width": 100
    }
   },
   "source": [
    "# encoding"
   ]
  },
  {
   "cell_type": "code",
   "execution_count": 9,
   "id": "f567a703",
   "metadata": {},
   "outputs": [],
   "source": [
    "# encode the data"
   ]
  },
  {
   "cell_type": "markdown",
   "id": "8b22a6a9-8cd5-4301-96de-053697d9efe4",
   "metadata": {
    "id": "8b22a6a9-8cd5-4301-96de-053697d9efe4",
    "panel-layout": {
     "height": 60.602272033691406,
     "visible": true,
     "width": 100
    }
   },
   "source": [
    "# define x , y"
   ]
  },
  {
   "cell_type": "code",
   "execution_count": 10,
   "id": "015aaabe-b2d5-4a7d-b85a-d151f5b800a8",
   "metadata": {
    "id": "015aaabe-b2d5-4a7d-b85a-d151f5b800a8"
   },
   "outputs": [],
   "source": [
    "import numpy as np\n",
    "\n",
    "x = np.array(df[['f1']])   # 2D\n",
    "y = np.array(df['T'])     # 1D\n",
    "\n",
    "# x = df.drop('T', axis=1).values\n",
    "# y = df['T'].values"
   ]
  },
  {
   "cell_type": "code",
   "execution_count": 11,
   "id": "adfc2d55-1bc7-45e9-9ae9-a104ac1a499f",
   "metadata": {
    "panel-layout": {
     "height": 796.6818237304688,
     "visible": true,
     "width": 100
    }
   },
   "outputs": [
    {
     "data": {
      "text/plain": [
       "array([[2. ],\n",
       "       [2.4],\n",
       "       [1.5],\n",
       "       [3.5],\n",
       "       [3.5]])"
      ]
     },
     "execution_count": 11,
     "metadata": {},
     "output_type": "execute_result"
    }
   ],
   "source": [
    "x[:5]"
   ]
  },
  {
   "cell_type": "code",
   "execution_count": 12,
   "id": "b03a0b7d-1592-49f1-bf6c-7558078bc21f",
   "metadata": {
    "colab": {
     "base_uri": "https://localhost:8080/"
    },
    "executionInfo": {
     "elapsed": 12,
     "status": "ok",
     "timestamp": 1735669221587,
     "user": {
      "displayName": "Javad Monsefi",
      "userId": "11903795943444044796"
     },
     "user_tz": -210
    },
    "id": "b03a0b7d-1592-49f1-bf6c-7558078bc21f",
    "outputId": "9cb374a0-4d84-42e1-c218-abbb57851d1b",
    "panel-layout": {
     "height": 769.7727661132812,
     "visible": true,
     "width": 100
    }
   },
   "outputs": [
    {
     "data": {
      "text/plain": [
       "array([196., 221., 136., 255., 244.])"
      ]
     },
     "execution_count": 12,
     "metadata": {},
     "output_type": "execute_result"
    }
   ],
   "source": [
    "y[:5]"
   ]
  },
  {
   "cell_type": "markdown",
   "id": "00a5948b-78f8-4875-82c0-47e5437ad131",
   "metadata": {
    "id": "00a5948b-78f8-4875-82c0-47e5437ad131",
    "panel-layout": {
     "height": 60.602272033691406,
     "visible": true,
     "width": 100
    }
   },
   "source": [
    "# spliting"
   ]
  },
  {
   "cell_type": "code",
   "execution_count": 13,
   "id": "b6705b15",
   "metadata": {},
   "outputs": [],
   "source": [
    "# # finding best random state \n",
    "\n",
    "# from sklearn.model_selection import train_test_split\n",
    "# from sklearn.linear_model import LinearRegression\n",
    "# from sklearn.metrics import r2_score\n",
    "# import numpy\n",
    "\n",
    "# import time\n",
    "# t1 = time.time()\n",
    "# lst = []\n",
    "# for i in range(1,10):\n",
    "#     x_train, x_test, y_train, y_test = train_test_split(x, y, test_size=0.25, random_state=i)\n",
    "#     slr = LinearRegression()\n",
    "#     slr.fit(x_train, y_train)\n",
    "#     yhat_test = slr.predict(x_test)\n",
    "#     r2 = r2_score(y_test, yhat_test)\n",
    "#     lst.append(r2)\n",
    "# t2 = time.time()\n",
    "# print(f\"run time: {round((t2 - t1)/60, 2)} min\")\n",
    "# print(f\"r2_score: {round(max(lst), 2)}\")\n",
    "# rs = np.argmax(lst) + 1\n",
    "# print(f\"random_state: {rs}\")"
   ]
  },
  {
   "cell_type": "code",
   "execution_count": 14,
   "id": "70e4b817-7d0c-407c-9352-b71953538823",
   "metadata": {
    "id": "70e4b817-7d0c-407c-9352-b71953538823"
   },
   "outputs": [],
   "source": [
    "from sklearn.model_selection import train_test_split\n",
    "\n",
    "x_train, x_test, y_train, y_test = train_test_split(x, y, test_size=0.25, random_state=42)"
   ]
  },
  {
   "cell_type": "code",
   "execution_count": 15,
   "id": "33d3444c-98d6-4763-ae25-f944788760c1",
   "metadata": {
    "id": "33d3444c-98d6-4763-ae25-f944788760c1"
   },
   "outputs": [],
   "source": [
    "### spliting without sklearn\n",
    "\n",
    "# msk = np.random.rand(len(df)) < 0.8\n",
    "# train = df[msk]\n",
    "# test = df[~msk]\n",
    "\n",
    "# x_train = np.array(train[['f1']])\n",
    "# x_test = np.array(test[['f1']])\n",
    "# y_train = np.array(train[['T']])\n",
    "# y_test = np.array(test[['T']])"
   ]
  },
  {
   "cell_type": "code",
   "execution_count": 16,
   "id": "ac0c8ce4-5088-4883-ac34-0f8bf3d9e1f8",
   "metadata": {
    "colab": {
     "base_uri": "https://localhost:8080/",
     "height": 430
    },
    "executionInfo": {
     "elapsed": 795,
     "status": "ok",
     "timestamp": 1735669226135,
     "user": {
      "displayName": "Javad Monsefi",
      "userId": "11903795943444044796"
     },
     "user_tz": -210
    },
    "id": "ac0c8ce4-5088-4883-ac34-0f8bf3d9e1f8",
    "outputId": "eea733de-d04a-480e-d9d3-92f1085a027e",
    "panel-layout": {
     "height": 701,
     "visible": true,
     "width": 100
    }
   },
   "outputs": [
    {
     "data": {
      "image/png": "[encoded data removed]",
      "text/plain": [
       "<Figure size 640x480 with 1 Axes>"
      ]
     },
     "metadata": {},
     "output_type": "display_data"
    }
   ],
   "source": [
    "plt.scatter(x_train, y_train, s=10, c='b')\n",
    "plt.scatter(x_test, y_test, s=10, c='r')\n",
    "plt.show()"
   ]
  },
  {
   "cell_type": "markdown",
   "id": "9c9de4f3",
   "metadata": {
    "panel-layout": {
     "height": 60.602272033691406,
     "visible": true,
     "width": 100
    }
   },
   "source": [
    "# scaling"
   ]
  },
  {
   "cell_type": "code",
   "execution_count": 17,
   "id": "04a8af1e",
   "metadata": {},
   "outputs": [],
   "source": [
    "# do not need for scaling in simple linear regression"
   ]
  },
  {
   "cell_type": "markdown",
   "id": "579f1c31-7323-41d0-bcd5-813c41747f92",
   "metadata": {
    "id": "579f1c31-7323-41d0-bcd5-813c41747f92",
    "panel-layout": {
     "height": 60.602272033691406,
     "visible": true,
     "width": 100
    }
   },
   "source": [
    "# fit train data"
   ]
  },
  {
   "cell_type": "code",
   "execution_count": 18,
   "id": "cc4910ec",
   "metadata": {},
   "outputs": [],
   "source": [
    "# # K-fold cross validation\n",
    "\n",
    "# from sklearn.linear_model import LinearRegression\n",
    "# from sklearn.model_selection import GridSearchCV\n",
    "\n",
    "# parameters = {\n",
    "#     'fit_intercept': [True, False],\n",
    "#     'copy_X': [True, False],\n",
    "#     'n_jobs': [None],\n",
    "#     'positive': [True, False]\n",
    "# }\n",
    "\n",
    "# lr = LinearRegression()\n",
    "# gs = GridSearchCV(estimator=lr, param_grid=parameters, cv=5)\n",
    "\n",
    "# gs.fit(x_train, y_train)\n",
    "\n",
    "# best_params = gs.best_params_\n",
    "# print(best_params)"
   ]
  },
  {
   "cell_type": "code",
   "execution_count": 19,
   "id": "4IItKKr98dmm",
   "metadata": {
    "id": "4IItKKr98dmm"
   },
   "outputs": [],
   "source": [
    "# def param\n",
    "# copy_X=True, fit_intercept=True, n_jobs=None, positive=False"
   ]
  },
  {
   "cell_type": "code",
   "execution_count": 20,
   "id": "f40071fe-15ac-4e76-bb8c-46f301507204",
   "metadata": {
    "id": "f40071fe-15ac-4e76-bb8c-46f301507204",
    "panel-layout": {
     "height": 769.5227661132812,
     "visible": true,
     "width": 100
    }
   },
   "outputs": [
    {
     "data": {
      "text/html": [
       "<style>#sk-container-id-1 {\n",
       "  /* Definition of color scheme common for light and dark mode */\n",
       "  --sklearn-color-text: #000;\n",
       "  --sklearn-color-text-muted: #666;\n",
       "  --sklearn-color-line: gray;\n",
       "  /* Definition of color scheme for unfitted estimators */\n",
       "  --sklearn-color-unfitted-level-0: #fff5e6;\n",
       "  --sklearn-color-unfitted-level-1: #f6e4d2;\n",
       "  --sklearn-color-unfitted-level-2: #ffe0b3;\n",
       "  --sklearn-color-unfitted-level-3: chocolate;\n",
       "  /* Definition of color scheme for fitted estimators */\n",
       "  --sklearn-color-fitted-level-0: #f0f8ff;\n",
       "  --sklearn-color-fitted-level-1: #d4ebff;\n",
       "  --sklearn-color-fitted-level-2: #b3dbfd;\n",
       "  --sklearn-color-fitted-level-3: cornflowerblue;\n",
       "\n",
       "  /* Specific color for light theme */\n",
       "  --sklearn-color-text-on-default-background: var(--sg-text-color, var(--theme-code-foreground, var(--jp-content-font-color1, black)));\n",
       "  --sklearn-color-background: var(--sg-background-color, var(--theme-background, var(--jp-layout-color0, white)));\n",
       "  --sklearn-color-border-box: var(--sg-text-color, var(--theme-code-foreground, var(--jp-content-font-color1, black)));\n",
       "  --sklearn-color-icon: #696969;\n",
       "\n",
       "  @media (prefers-color-scheme: dark) {\n",
       "    /* Redefinition of color scheme for dark theme */\n",
       "    --sklearn-color-text-on-default-background: var(--sg-text-color, var(--theme-code-foreground, var(--jp-content-font-color1, white)));\n",
       "    --sklearn-color-background: var(--sg-background-color, var(--theme-background, var(--jp-layout-color0, #111)));\n",
       "    --sklearn-color-border-box: var(--sg-text-color, var(--theme-code-foreground, var(--jp-content-font-color1, white)));\n",
       "    --sklearn-color-icon: #878787;\n",
       "  }\n",
       "}\n",
       "\n",
       "#sk-container-id-1 {\n",
       "  color: var(--sklearn-color-text);\n",
       "}\n",
       "\n",
       "#sk-container-id-1 pre {\n",
       "  padding: 0;\n",
       "}\n",
       "\n",
       "#sk-container-id-1 input.sk-hidden--visually {\n",
       "  border: 0;\n",
       "  clip: rect(1px 1px 1px 1px);\n",
       "  clip: rect(1px, 1px, 1px, 1px);\n",
       "  height: 1px;\n",
       "  margin: -1px;\n",
       "  overflow: hidden;\n",
       "  padding: 0;\n",
       "  position: absolute;\n",
       "  width: 1px;\n",
       "}\n",
       "\n",
       "#sk-container-id-1 div.sk-dashed-wrapped {\n",
       "  border: 1px dashed var(--sklearn-color-line);\n",
       "  margin: 0 0.4em 0.5em 0.4em;\n",
       "  box-sizing: border-box;\n",
       "  padding-bottom: 0.4em;\n",
       "  background-color: var(--sklearn-color-background);\n",
       "}\n",
       "\n",
       "#sk-container-id-1 div.sk-container {\n",
       "  /* jupyter's `normalize.less` sets `[hidden] { display: none; }`\n",
       "     but bootstrap.min.css set `[hidden] { display: none !important; }`\n",
       "     so we also need the `!important` here to be able to override the\n",
       "     default hidden behavior on the sphinx rendered scikit-learn.org.\n",
       "     See: https://github.com/scikit-learn/scikit-learn/issues/21755 */\n",
       "  display: inline-block !important;\n",
       "  position: relative;\n",
       "}\n",
       "\n",
       "#sk-container-id-1 div.sk-text-repr-fallback {\n",
       "  display: none;\n",
       "}\n",
       "\n",
       "div.sk-parallel-item,\n",
       "div.sk-serial,\n",
       "div.sk-item {\n",
       "  /* draw centered vertical line to link estimators */\n",
       "  background-image: linear-gradient(var(--sklearn-color-text-on-default-background), var(--sklearn-color-text-on-default-background));\n",
       "  background-size: 2px 100%;\n",
       "  background-repeat: no-repeat;\n",
       "  background-position: center center;\n",
       "}\n",
       "\n",
       "/* Parallel-specific style estimator block */\n",
       "\n",
       "#sk-container-id-1 div.sk-parallel-item::after {\n",
       "  content: \"\";\n",
       "  width: 100%;\n",
       "  border-bottom: 2px solid var(--sklearn-color-text-on-default-background);\n",
       "  flex-grow: 1;\n",
       "}\n",
       "\n",
       "#sk-container-id-1 div.sk-parallel {\n",
       "  display: flex;\n",
       "  align-items: stretch;\n",
       "  justify-content: center;\n",
       "  background-color: var(--sklearn-color-background);\n",
       "  position: relative;\n",
       "}\n",
       "\n",
       "#sk-container-id-1 div.sk-parallel-item {\n",
       "  display: flex;\n",
       "  flex-direction: column;\n",
       "}\n",
       "\n",
       "#sk-container-id-1 div.sk-parallel-item:first-child::after {\n",
       "  align-self: flex-end;\n",
       "  width: 50%;\n",
       "}\n",
       "\n",
       "#sk-container-id-1 div.sk-parallel-item:last-child::after {\n",
       "  align-self: flex-start;\n",
       "  width: 50%;\n",
       "}\n",
       "\n",
       "#sk-container-id-1 div.sk-parallel-item:only-child::after {\n",
       "  width: 0;\n",
       "}\n",
       "\n",
       "/* Serial-specific style estimator block */\n",
       "\n",
       "#sk-container-id-1 div.sk-serial {\n",
       "  display: flex;\n",
       "  flex-direction: column;\n",
       "  align-items: center;\n",
       "  background-color: var(--sklearn-color-background);\n",
       "  padding-right: 1em;\n",
       "  padding-left: 1em;\n",
       "}\n",
       "\n",
       "\n",
       "/* Toggleable style: style used for estimator/Pipeline/ColumnTransformer box that is\n",
       "clickable and can be expanded/collapsed.\n",
       "- Pipeline and ColumnTransformer use this feature and define the default style\n",
       "- Estimators will overwrite some part of the style using the `sk-estimator` class\n",
       "*/\n",
       "\n",
       "/* Pipeline and ColumnTransformer style (default) */\n",
       "\n",
       "#sk-container-id-1 div.sk-toggleable {\n",
       "  /* Default theme specific background. It is overwritten whether we have a\n",
       "  specific estimator or a Pipeline/ColumnTransformer */\n",
       "  background-color: var(--sklearn-color-background);\n",
       "}\n",
       "\n",
       "/* Toggleable label */\n",
       "#sk-container-id-1 label.sk-toggleable__label {\n",
       "  cursor: pointer;\n",
       "  display: flex;\n",
       "  width: 100%;\n",
       "  margin-bottom: 0;\n",
       "  padding: 0.5em;\n",
       "  box-sizing: border-box;\n",
       "  text-align: center;\n",
       "  align-items: start;\n",
       "  justify-content: space-between;\n",
       "  gap: 0.5em;\n",
       "}\n",
       "\n",
       "#sk-container-id-1 label.sk-toggleable__label .caption {\n",
       "  font-size: 0.6rem;\n",
       "  font-weight: lighter;\n",
       "  color: var(--sklearn-color-text-muted);\n",
       "}\n",
       "\n",
       "#sk-container-id-1 label.sk-toggleable__label-arrow:before {\n",
       "  /* Arrow on the left of the label */\n",
       "  content: \"▸\";\n",
       "  float: left;\n",
       "  margin-right: 0.25em;\n",
       "  color: var(--sklearn-color-icon);\n",
       "}\n",
       "\n",
       "#sk-container-id-1 label.sk-toggleable__label-arrow:hover:before {\n",
       "  color: var(--sklearn-color-text);\n",
       "}\n",
       "\n",
       "/* Toggleable content - dropdown */\n",
       "\n",
       "#sk-container-id-1 div.sk-toggleable__content {\n",
       "  max-height: 0;\n",
       "  max-width: 0;\n",
       "  overflow: hidden;\n",
       "  text-align: left;\n",
       "  /* unfitted */\n",
       "  background-color: var(--sklearn-color-unfitted-level-0);\n",
       "}\n",
       "\n",
       "#sk-container-id-1 div.sk-toggleable__content.fitted {\n",
       "  /* fitted */\n",
       "  background-color: var(--sklearn-color-fitted-level-0);\n",
       "}\n",
       "\n",
       "#sk-container-id-1 div.sk-toggleable__content pre {\n",
       "  margin: 0.2em;\n",
       "  border-radius: 0.25em;\n",
       "  color: var(--sklearn-color-text);\n",
       "  /* unfitted */\n",
       "  background-color: var(--sklearn-color-unfitted-level-0);\n",
       "}\n",
       "\n",
       "#sk-container-id-1 div.sk-toggleable__content.fitted pre {\n",
       "  /* unfitted */\n",
       "  background-color: var(--sklearn-color-fitted-level-0);\n",
       "}\n",
       "\n",
       "#sk-container-id-1 input.sk-toggleable__control:checked~div.sk-toggleable__content {\n",
       "  /* Expand drop-down */\n",
       "  max-height: 200px;\n",
       "  max-width: 100%;\n",
       "  overflow: auto;\n",
       "}\n",
       "\n",
       "#sk-container-id-1 input.sk-toggleable__control:checked~label.sk-toggleable__label-arrow:before {\n",
       "  content: \"▾\";\n",
       "}\n",
       "\n",
       "/* Pipeline/ColumnTransformer-specific style */\n",
       "\n",
       "#sk-container-id-1 div.sk-label input.sk-toggleable__control:checked~label.sk-toggleable__label {\n",
       "  color: var(--sklearn-color-text);\n",
       "  background-color: var(--sklearn-color-unfitted-level-2);\n",
       "}\n",
       "\n",
       "#sk-container-id-1 div.sk-label.fitted input.sk-toggleable__control:checked~label.sk-toggleable__label {\n",
       "  background-color: var(--sklearn-color-fitted-level-2);\n",
       "}\n",
       "\n",
       "/* Estimator-specific style */\n",
       "\n",
       "/* Colorize estimator box */\n",
       "#sk-container-id-1 div.sk-estimator input.sk-toggleable__control:checked~label.sk-toggleable__label {\n",
       "  /* unfitted */\n",
       "  background-color: var(--sklearn-color-unfitted-level-2);\n",
       "}\n",
       "\n",
       "#sk-container-id-1 div.sk-estimator.fitted input.sk-toggleable__control:checked~label.sk-toggleable__label {\n",
       "  /* fitted */\n",
       "  background-color: var(--sklearn-color-fitted-level-2);\n",
       "}\n",
       "\n",
       "#sk-container-id-1 div.sk-label label.sk-toggleable__label,\n",
       "#sk-container-id-1 div.sk-label label {\n",
       "  /* The background is the default theme color */\n",
       "  color: var(--sklearn-color-text-on-default-background);\n",
       "}\n",
       "\n",
       "/* On hover, darken the color of the background */\n",
       "#sk-container-id-1 div.sk-label:hover label.sk-toggleable__label {\n",
       "  color: var(--sklearn-color-text);\n",
       "  background-color: var(--sklearn-color-unfitted-level-2);\n",
       "}\n",
       "\n",
       "/* Label box, darken color on hover, fitted */\n",
       "#sk-container-id-1 div.sk-label.fitted:hover label.sk-toggleable__label.fitted {\n",
       "  color: var(--sklearn-color-text);\n",
       "  background-color: var(--sklearn-color-fitted-level-2);\n",
       "}\n",
       "\n",
       "/* Estimator label */\n",
       "\n",
       "#sk-container-id-1 div.sk-label label {\n",
       "  font-family: monospace;\n",
       "  font-weight: bold;\n",
       "  display: inline-block;\n",
       "  line-height: 1.2em;\n",
       "}\n",
       "\n",
       "#sk-container-id-1 div.sk-label-container {\n",
       "  text-align: center;\n",
       "}\n",
       "\n",
       "/* Estimator-specific */\n",
       "#sk-container-id-1 div.sk-estimator {\n",
       "  font-family: monospace;\n",
       "  border: 1px dotted var(--sklearn-color-border-box);\n",
       "  border-radius: 0.25em;\n",
       "  box-sizing: border-box;\n",
       "  margin-bottom: 0.5em;\n",
       "  /* unfitted */\n",
       "  background-color: var(--sklearn-color-unfitted-level-0);\n",
       "}\n",
       "\n",
       "#sk-container-id-1 div.sk-estimator.fitted {\n",
       "  /* fitted */\n",
       "  background-color: var(--sklearn-color-fitted-level-0);\n",
       "}\n",
       "\n",
       "/* on hover */\n",
       "#sk-container-id-1 div.sk-estimator:hover {\n",
       "  /* unfitted */\n",
       "  background-color: var(--sklearn-color-unfitted-level-2);\n",
       "}\n",
       "\n",
       "#sk-container-id-1 div.sk-estimator.fitted:hover {\n",
       "  /* fitted */\n",
       "  background-color: var(--sklearn-color-fitted-level-2);\n",
       "}\n",
       "\n",
       "/* Specification for estimator info (e.g. \"i\" and \"?\") */\n",
       "\n",
       "/* Common style for \"i\" and \"?\" */\n",
       "\n",
       ".sk-estimator-doc-link,\n",
       "a:link.sk-estimator-doc-link,\n",
       "a:visited.sk-estimator-doc-link {\n",
       "  float: right;\n",
       "  font-size: smaller;\n",
       "  line-height: 1em;\n",
       "  font-family: monospace;\n",
       "  background-color: var(--sklearn-color-background);\n",
       "  border-radius: 1em;\n",
       "  height: 1em;\n",
       "  width: 1em;\n",
       "  text-decoration: none !important;\n",
       "  margin-left: 0.5em;\n",
       "  text-align: center;\n",
       "  /* unfitted */\n",
       "  border: var(--sklearn-color-unfitted-level-1) 1pt solid;\n",
       "  color: var(--sklearn-color-unfitted-level-1);\n",
       "}\n",
       "\n",
       ".sk-estimator-doc-link.fitted,\n",
       "a:link.sk-estimator-doc-link.fitted,\n",
       "a:visited.sk-estimator-doc-link.fitted {\n",
       "  /* fitted */\n",
       "  border: var(--sklearn-color-fitted-level-1) 1pt solid;\n",
       "  color: var(--sklearn-color-fitted-level-1);\n",
       "}\n",
       "\n",
       "/* On hover */\n",
       "div.sk-estimator:hover .sk-estimator-doc-link:hover,\n",
       ".sk-estimator-doc-link:hover,\n",
       "div.sk-label-container:hover .sk-estimator-doc-link:hover,\n",
       ".sk-estimator-doc-link:hover {\n",
       "  /* unfitted */\n",
       "  background-color: var(--sklearn-color-unfitted-level-3);\n",
       "  color: var(--sklearn-color-background);\n",
       "  text-decoration: none;\n",
       "}\n",
       "\n",
       "div.sk-estimator.fitted:hover .sk-estimator-doc-link.fitted:hover,\n",
       ".sk-estimator-doc-link.fitted:hover,\n",
       "div.sk-label-container:hover .sk-estimator-doc-link.fitted:hover,\n",
       ".sk-estimator-doc-link.fitted:hover {\n",
       "  /* fitted */\n",
       "  background-color: var(--sklearn-color-fitted-level-3);\n",
       "  color: var(--sklearn-color-background);\n",
       "  text-decoration: none;\n",
       "}\n",
       "\n",
       "/* Span, style for the box shown on hovering the info icon */\n",
       ".sk-estimator-doc-link span {\n",
       "  display: none;\n",
       "  z-index: 9999;\n",
       "  position: relative;\n",
       "  font-weight: normal;\n",
       "  right: .2ex;\n",
       "  padding: .5ex;\n",
       "  margin: .5ex;\n",
       "  width: min-content;\n",
       "  min-width: 20ex;\n",
       "  max-width: 50ex;\n",
       "  color: var(--sklearn-color-text);\n",
       "  box-shadow: 2pt 2pt 4pt #999;\n",
       "  /* unfitted */\n",
       "  background: var(--sklearn-color-unfitted-level-0);\n",
       "  border: .5pt solid var(--sklearn-color-unfitted-level-3);\n",
       "}\n",
       "\n",
       ".sk-estimator-doc-link.fitted span {\n",
       "  /* fitted */\n",
       "  background: var(--sklearn-color-fitted-level-0);\n",
       "  border: var(--sklearn-color-fitted-level-3);\n",
       "}\n",
       "\n",
       ".sk-estimator-doc-link:hover span {\n",
       "  display: block;\n",
       "}\n",
       "\n",
       "/* \"?\"-specific style due to the `<a>` HTML tag */\n",
       "\n",
       "#sk-container-id-1 a.estimator_doc_link {\n",
       "  float: right;\n",
       "  font-size: 1rem;\n",
       "  line-height: 1em;\n",
       "  font-family: monospace;\n",
       "  background-color: var(--sklearn-color-background);\n",
       "  border-radius: 1rem;\n",
       "  height: 1rem;\n",
       "  width: 1rem;\n",
       "  text-decoration: none;\n",
       "  /* unfitted */\n",
       "  color: var(--sklearn-color-unfitted-level-1);\n",
       "  border: var(--sklearn-color-unfitted-level-1) 1pt solid;\n",
       "}\n",
       "\n",
       "#sk-container-id-1 a.estimator_doc_link.fitted {\n",
       "  /* fitted */\n",
       "  border: var(--sklearn-color-fitted-level-1) 1pt solid;\n",
       "  color: var(--sklearn-color-fitted-level-1);\n",
       "}\n",
       "\n",
       "/* On hover */\n",
       "#sk-container-id-1 a.estimator_doc_link:hover {\n",
       "  /* unfitted */\n",
       "  background-color: var(--sklearn-color-unfitted-level-3);\n",
       "  color: var(--sklearn-color-background);\n",
       "  text-decoration: none;\n",
       "}\n",
       "\n",
       "#sk-container-id-1 a.estimator_doc_link.fitted:hover {\n",
       "  /* fitted */\n",
       "  background-color: var(--sklearn-color-fitted-level-3);\n",
       "}\n",
       "</style><div id=\"sk-container-id-1\" class=\"sk-top-container\"><div class=\"sk-text-repr-fallback\"><pre>LinearRegression()</pre><b>In a Jupyter environment, please rerun this cell to show the HTML representation or trust the notebook. <br />On GitHub, the HTML representation is unable to render, please try loading this page with nbviewer.org.</b></div><div class=\"sk-container\" hidden><div class=\"sk-item\"><div class=\"sk-estimator fitted sk-toggleable\"><input class=\"sk-toggleable__control sk-hidden--visually\" id=\"sk-estimator-id-1\" type=\"checkbox\" checked><label for=\"sk-estimator-id-1\" class=\"sk-toggleable__label fitted sk-toggleable__label-arrow\"><div><div>LinearRegression</div></div><div><a class=\"sk-estimator-doc-link fitted\" rel=\"noreferrer\" target=\"_blank\" href=\"https://scikit-learn.org/1.6/modules/generated/sklearn.linear_model.LinearRegression.html\">?<span>Documentation for LinearRegression</span></a><span class=\"sk-estimator-doc-link fitted\">i<span>Fitted</span></span></div></label><div class=\"sk-toggleable__content fitted\"><pre>LinearRegression()</pre></div> </div></div></div></div>"
      ],
      "text/plain": [
       "LinearRegression()"
      ]
     },
     "execution_count": 20,
     "metadata": {},
     "output_type": "execute_result"
    }
   ],
   "source": [
    "from sklearn.linear_model import LinearRegression\n",
    "\n",
    "slr = LinearRegression()\n",
    "slr.fit(x_train, y_train)"
   ]
  },
  {
   "cell_type": "markdown",
   "id": "4dc3c0ba-17d5-446a-85df-20b5e2705d9a",
   "metadata": {
    "panel-layout": {
     "height": 51.1363639831543,
     "visible": true,
     "width": 100
    }
   },
   "source": [
    "$$\n",
    "Y = aX + b\n",
    "$$"
   ]
  },
  {
   "cell_type": "code",
   "execution_count": 21,
   "id": "152d2254-0f8e-421b-b602-735f3e7c1861",
   "metadata": {
    "colab": {
     "base_uri": "https://localhost:8080/"
    },
    "executionInfo": {
     "elapsed": 7,
     "status": "ok",
     "timestamp": 1735669233877,
     "user": {
      "displayName": "Javad Monsefi",
      "userId": "11903795943444044796"
     },
     "user_tz": -210
    },
    "id": "152d2254-0f8e-421b-b602-735f3e7c1861",
    "outputId": "918ec5f2-e62f-4204-d00e-3dc47bbb62a3",
    "panel-layout": {
     "height": 701,
     "visible": true,
     "width": 100
    }
   },
   "outputs": [
    {
     "name": "stdout",
     "output_type": "stream",
     "text": [
      "125.34191373444628\n",
      "[39.09396292]\n"
     ]
    }
   ],
   "source": [
    "print(slr.intercept_)   # interception (b)\n",
    "print(slr.coef_)        # coefficient (a)"
   ]
  },
  {
   "cell_type": "code",
   "execution_count": 22,
   "id": "9964eac9-56f8-4d4b-9624-c9429cd22b75",
   "metadata": {
    "colab": {
     "base_uri": "https://localhost:8080/",
     "height": 430
    },
    "executionInfo": {
     "elapsed": 532,
     "status": "ok",
     "timestamp": 1735669329511,
     "user": {
      "displayName": "Javad Monsefi",
      "userId": "11903795943444044796"
     },
     "user_tz": -210
    },
    "id": "9964eac9-56f8-4d4b-9624-c9429cd22b75",
    "outputId": "61c89c6a-8a02-430d-fff8-983543a145e1",
    "panel-layout": {
     "height": 701,
     "visible": true,
     "width": 100
    }
   },
   "outputs": [
    {
     "data": {
      "image/png": "[encoded data removed]",
      "text/plain": [
       "<Figure size 640x480 with 1 Axes>"
      ]
     },
     "metadata": {},
     "output_type": "display_data"
    }
   ],
   "source": [
    "xx = np.arange(0, 9, 0.01)\n",
    "plt.scatter(x_train, y_train, s=10, c='b')\n",
    "plt.plot(xx, slr.intercept_ + slr.coef_[0] * xx, c='r')\n",
    "plt.show()"
   ]
  },
  {
   "cell_type": "code",
   "execution_count": 23,
   "id": "b490f1b3-4024-41c9-9006-632803fac30b",
   "metadata": {
    "colab": {
     "base_uri": "https://localhost:8080/",
     "height": 430
    },
    "executionInfo": {
     "elapsed": 654,
     "status": "ok",
     "timestamp": 1735669338597,
     "user": {
      "displayName": "Javad Monsefi",
      "userId": "11903795943444044796"
     },
     "user_tz": -210
    },
    "id": "b490f1b3-4024-41c9-9006-632803fac30b",
    "outputId": "c01a9351-3806-4823-e8b1-bc2d4ee3a37f",
    "panel-layout": {
     "height": 701,
     "visible": true,
     "width": 100
    }
   },
   "outputs": [
    {
     "data": {
      "image/png": "[encoded data removed]",
      "text/plain": [
       "<Figure size 640x480 with 1 Axes>"
      ]
     },
     "metadata": {},
     "output_type": "display_data"
    }
   ],
   "source": [
    "xx = np.arange(0,9,0.01)\n",
    "plt.scatter(x_train, y_train, s=10, c='b')\n",
    "plt.plot(xx, slr.intercept_ + slr.coef_[0] * xx, c='black')\n",
    "plt.scatter(x_test, y_test, c='r', s=10)\n",
    "plt.show()"
   ]
  },
  {
   "cell_type": "markdown",
   "id": "d81b3d5e-51b0-4da4-a376-f7c60915b397",
   "metadata": {
    "id": "d81b3d5e-51b0-4da4-a376-f7c60915b397",
    "panel-layout": {
     "height": 60.602272033691406,
     "visible": true,
     "width": 100
    }
   },
   "source": [
    "# predict test data"
   ]
  },
  {
   "cell_type": "code",
   "execution_count": 24,
   "id": "98c49e67-24a1-47f6-a2b9-cfaac48e8dd2",
   "metadata": {
    "id": "98c49e67-24a1-47f6-a2b9-cfaac48e8dd2"
   },
   "outputs": [],
   "source": [
    "yhat_test = slr.predict(x_test)"
   ]
  },
  {
   "cell_type": "markdown",
   "id": "30054e56-985c-4e00-a839-555f24ad7df9",
   "metadata": {
    "id": "30054e56-985c-4e00-a839-555f24ad7df9",
    "panel-layout": {
     "height": 60.602630615234375,
     "visible": true,
     "width": 100
    }
   },
   "source": [
    "# evaluate the model"
   ]
  },
  {
   "cell_type": "code",
   "execution_count": 25,
   "id": "725a9b22-b3d7-49eb-853a-45ea063af460",
   "metadata": {
    "colab": {
     "base_uri": "https://localhost:8080/"
    },
    "executionInfo": {
     "elapsed": 591,
     "status": "ok",
     "timestamp": 1735669343421,
     "user": {
      "displayName": "Javad Monsefi",
      "userId": "11903795943444044796"
     },
     "user_tz": -210
    },
    "id": "725a9b22-b3d7-49eb-853a-45ea063af460",
    "outputId": "ef5773ac-0e66-4761-af27-366c2c8eb1a7"
   },
   "outputs": [
    {
     "name": "stdout",
     "output_type": "stream",
     "text": [
      "r2_score (train data): 0.7606337213479202\n",
      "r2_score (test data): 0.7640882256860348\n"
     ]
    }
   ],
   "source": [
    "from sklearn.metrics import r2_score\n",
    "\n",
    "print(f\"r2_score (train data): {r2_score(y_train, slr.predict(x_train))}\")\n",
    "print(f\"r2_score (test data): {r2_score(y_test, yhat_test)}\")\n",
    "\n",
    "# print(\"r2-score (train data): %0.4f\" % r2_score(y_train, slr.predict(x_train)))\n",
    "# print(\"r2-score (test data): %0.4f\" % r2_score(y_test, yhat_test))"
   ]
  },
  {
   "cell_type": "code",
   "execution_count": 26,
   "id": "b5185b23-2ada-4b8c-b236-20d58cae3b05",
   "metadata": {
    "colab": {
     "base_uri": "https://localhost:8080/"
    },
    "executionInfo": {
     "elapsed": 370,
     "status": "ok",
     "timestamp": 1735669346408,
     "user": {
      "displayName": "Javad Monsefi",
      "userId": "11903795943444044796"
     },
     "user_tz": -210
    },
    "id": "b5185b23-2ada-4b8c-b236-20d58cae3b05",
    "outputId": "e17978b9-e456-43a2-a513-5e1d41d66490",
    "panel-layout": {
     "height": 701,
     "visible": true,
     "width": 100
    }
   },
   "outputs": [
    {
     "name": "stdout",
     "output_type": "stream",
     "text": [
      "MSE (train data): 942.874302570725\n",
      "RMSE (train data): 30.706258361622716\n",
      "MAE (train data): 23.412167347143715\n",
      "------------\n",
      "MSE (test data): 997.6888180140704\n",
      "RMSE (test data): 31.586212467057052\n",
      "MAE (test data): 23.346554105473384\n"
     ]
    }
   ],
   "source": [
    "from sklearn.metrics import mean_squared_error\n",
    "from sklearn.metrics import mean_absolute_error\n",
    "\n",
    "print(f\"MSE (train data): {mean_squared_error(y_train, slr.predict(x_train))}\")\n",
    "print(f\"RMSE (train data): {np.sqrt(mean_squared_error(y_train, slr.predict(x_train)))}\")\n",
    "print(f\"MAE (train data): {mean_absolute_error(y_train, slr.predict(x_train))}\")\n",
    "print('------------')\n",
    "print(f\"MSE (test data): {mean_squared_error(y_test, yhat_test)}\")\n",
    "print(f\"RMSE (test data): {np.sqrt(mean_squared_error(y_test, yhat_test))}\")\n",
    "print(f\"MAE (test data): {mean_absolute_error(y_test, yhat_test)}\")"
   ]
  },
  {
   "cell_type": "code",
   "execution_count": 27,
   "id": "FCcNM6d87yle",
   "metadata": {
    "id": "FCcNM6d87yle"
   },
   "outputs": [],
   "source": [
    "### evaluate without sklearn\n",
    "\n",
    "# print(\"MSE: %0.2f\" % np.mean((y_test - yhat_test) ** 2))\n",
    "# print(\"MAE: %0.2f\" % np.mean(np.absolute(y_test - yhat_test)))"
   ]
  },
  {
   "cell_type": "markdown",
   "id": "b87c2457-39bc-40a5-816e-1207105e2a07",
   "metadata": {
    "id": "b87c2457-39bc-40a5-816e-1207105e2a07",
    "panel-layout": {
     "height": 60.602272033691406,
     "visible": true,
     "width": 100
    }
   },
   "source": [
    "# predict new data"
   ]
  },
  {
   "cell_type": "code",
   "execution_count": 28,
   "id": "045137f8-8807-4bd1-8ece-d830e7b132b3",
   "metadata": {
    "colab": {
     "base_uri": "https://localhost:8080/"
    },
    "executionInfo": {
     "elapsed": 405,
     "status": "ok",
     "timestamp": 1735669349517,
     "user": {
      "displayName": "Javad Monsefi",
      "userId": "11903795943444044796"
     },
     "user_tz": -210
    },
    "id": "045137f8-8807-4bd1-8ece-d830e7b132b3",
    "outputId": "06352e55-8cb3-4d9e-9f32-8251e0df6489",
    "panel-layout": {
     "height": 769.7727661132812,
     "visible": true,
     "width": 100
    }
   },
   "outputs": [
    {
     "data": {
      "text/plain": [
       "array([203.52983958])"
      ]
     },
     "execution_count": 28,
     "metadata": {},
     "output_type": "execute_result"
    }
   ],
   "source": [
    "slr.predict([[2]])"
   ]
  },
  {
   "cell_type": "markdown",
   "id": "n0Tn1hKR9IYt",
   "metadata": {
    "id": "n0Tn1hKR9IYt",
    "panel-layout": {
     "height": 60.602272033691406,
     "visible": true,
     "width": 100
    }
   },
   "source": [
    "# save the model"
   ]
  },
  {
   "cell_type": "code",
   "execution_count": 29,
   "id": "x1zH1qwR9J6u",
   "metadata": {
    "id": "x1zH1qwR9J6u"
   },
   "outputs": [],
   "source": [
    "# import joblib\n",
    "# joblib.dump(slr, 'slr_model.pkl')"
   ]
  },
  {
   "cell_type": "markdown",
   "id": "Il_360T19M8U",
   "metadata": {
    "id": "Il_360T19M8U",
    "panel-layout": {
     "height": 60.602272033691406,
     "visible": true,
     "width": 100
    }
   },
   "source": [
    "# load the model"
   ]
  },
  {
   "cell_type": "code",
   "execution_count": 30,
   "id": "2WMPBa8k9OT4",
   "metadata": {
    "id": "2WMPBa8k9OT4"
   },
   "outputs": [],
   "source": [
    "# import joblib\n",
    "# slr = joblib.load('slr_model.pkl')"
   ]
  }
 ],
 "metadata": {
  "colab": {
   "provenance": []
  },
  "kernelspec": {
   "display_name": "Python 3 (ipykernel)",
   "language": "python",
   "name": "python3"
  },
  "language_info": {
   "codemirror_mode": {
    "name": "ipython",
    "version": 3
   },
   "file_extension": ".py",
   "mimetype": "text/x-python",
   "name": "python",
   "nbconvert_exporter": "python",
   "pygments_lexer": "ipython3",
   "version": "3.13.5"
  },
  "panel-cell-order": [
   "6e8a10d3-1773-456c-92fc-98fd84ce874a",
   "e4e6aa8a-f363-4448-a2a2-a444202b6569",
   "cbec918d-c091-41ce-9635-47836f00f041",
   "1941ccbf-97e9-405f-b361-4696c8ec01f5",
   "491158b3-5b0e-4562-ad0d-d318513fb338",
   "0ea8010e-f4b9-436d-a92c-3bf41f966a70",
   "7f70ee35-357f-427a-8dc8-d58a5f668026",
   "c4351e81-2484-422a-a6bb-118ebfaa5a48",
   "ab022281-3cd0-4386-9646-b19673f69c8e",
   "dec017d9-5e48-4b60-afed-dcf84b69b35a",
   "32fca2de-72c3-4c48-bc3c-5154bded1a7d",
   "bf192d34-d977-4f93-98db-39af8dfa516b",
   "dfd1aab6",
   "8b22a6a9-8cd5-4301-96de-053697d9efe4",
   "adfc2d55-1bc7-45e9-9ae9-a104ac1a499f",
   "b03a0b7d-1592-49f1-bf6c-7558078bc21f",
   "00a5948b-78f8-4875-82c0-47e5437ad131",
   "ac0c8ce4-5088-4883-ac34-0f8bf3d9e1f8",
   "9c9de4f3",
   "579f1c31-7323-41d0-bcd5-813c41747f92",
   "f40071fe-15ac-4e76-bb8c-46f301507204",
   "4dc3c0ba-17d5-446a-85df-20b5e2705d9a",
   "152d2254-0f8e-421b-b602-735f3e7c1861",
   "9964eac9-56f8-4d4b-9624-c9429cd22b75",
   "b490f1b3-4024-41c9-9006-632803fac30b",
   "d81b3d5e-51b0-4da4-a376-f7c60915b397",
   "30054e56-985c-4e00-a839-555f24ad7df9",
   "b5185b23-2ada-4b8c-b236-20d58cae3b05",
   "b87c2457-39bc-40a5-816e-1207105e2a07",
   "045137f8-8807-4bd1-8ece-d830e7b132b3",
   "n0Tn1hKR9IYt",
   "Il_360T19M8U"
  ]
 },
 "nbformat": 4,
 "nbformat_minor": 5
}
